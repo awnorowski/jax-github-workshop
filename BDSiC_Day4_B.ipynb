{
  "cells": [
    {
      "cell_type": "markdown",
      "metadata": {
        "id": "view-in-github",
        "colab_type": "text"
      },
      "source": [
        "<a href=\"https://colab.research.google.com/github/awnorowski/jax-github-workshop/blob/main/BDSiC_Day4_B.ipynb\" target=\"_parent\"><img src=\"https://colab.research.google.com/assets/colab-badge.svg\" alt=\"Open In Colab\"/></a>"
      ]
    },
    {
      "cell_type": "markdown",
      "id": "ef779edb-0ff3-4993-a4b6-440e47b162a4",
      "metadata": {
        "id": "ef779edb-0ff3-4993-a4b6-440e47b162a4"
      },
      "source": [
        "# Agenda - Edit\n",
        "---\n",
        "1. Review: random sampling from population. (**we want to learn about a population, but we only have a sample**).\n",
        "    * It should be random. Random Samples differ from each other and from the sample because they are... drum roll...**random**.\n",
        "\n",
        "2. Hypothesis testing overview\n",
        "    1. What **is** evidence? p-values, type I and type II errors.\n",
        "    2. Multiple testing\n",
        "\n",
        "3. A summary of the common tests (variables)\n",
        "    1. Correlation: **Pearson's correlation coefficient**\n",
        "    2. Models: **Ordinary Linear Regression (OLS)**\n",
        "    3. Comparison of means: **Student's t test**\n",
        "\n",
        "## Additional Resources\n",
        "**Which test should I use? flowcharts:**\n",
        "\n",
        "1. https://www.glabstat.com/test-flowchart\n",
        "2. https://www.afit.edu/STAT/statcoe_files/Interactive%20Inferential%20Statistics%20Flowchart.pdf\n",
        "3. https://statsandr.com/blog/files/overview-statistical-tests-statsandr.pdf\n",
        "\n",
        "**p-values and errors**\n",
        "1. http://www.intuitor.com/statistics/T1T2Errors.html\n",
        "\n",
        "**Confusion Matrix**\n",
        "1. https://www.geeksforgeeks.org/confusion-matrix-machine-learning/\n",
        "2. https://en.wikipedia.org/wiki/Confusion_matrix\n",
        "\n",
        "**ROC Curves**\n",
        "1. reasonable summary of AuROC terms: https://www.cs.rpi.edu/~leen/misc-publications/SomeStatDefs.html\n",
        "2. https://medium.com/@shaileydash/understanding-the-roc-and-auc-intuitively-31ca96445c02"
      ]
    },
    {
      "cell_type": "markdown",
      "id": "ee2b5c64-3a47-4c22-afb3-55c11d02d025",
      "metadata": {
        "id": "ee2b5c64-3a47-4c22-afb3-55c11d02d025"
      },
      "source": [
        "# Review: Random Sampling\n",
        "---"
      ]
    },
    {
      "cell_type": "markdown",
      "id": "352328fb-f38f-4e22-9eaf-8d645db3c178",
      "metadata": {
        "id": "352328fb-f38f-4e22-9eaf-8d645db3c178"
      },
      "source": [
        "<div>\n",
        "<img src=\"https://raw.githubusercontent.com/awnorowski/BDSiC_2025/refs/heads/main/images/Sampling.png\" width=\"75%\"/>\n",
        "</div>"
      ]
    },
    {
      "cell_type": "markdown",
      "id": "afb15743-68d7-46d5-bb94-1e7d11144179",
      "metadata": {
        "id": "afb15743-68d7-46d5-bb94-1e7d11144179"
      },
      "source": [
        "NOTE: In Data Science (and Machine Learning) it is **particularly** crucial that your sample (or your learning data) is pulled from the same population that will be predicted! Many horrible injustices occur when the sample data is different from the actual population that you are trying to learn something about."
      ]
    },
    {
      "cell_type": "markdown",
      "id": "14a1224e-58a2-4e33-ad06-c2c3d3eab6c1",
      "metadata": {
        "id": "14a1224e-58a2-4e33-ad06-c2c3d3eab6c1"
      },
      "source": [
        "#### Which provides a better strategy for inferential statistics?\n",
        "\n",
        "Both strategies cost the same, but which one is ’better’ sampling? <br>\n",
        "**Option 1**: Sample 1000 genomes 5 times <br>\n",
        "**Option 2**: Sample 5 genomes 10 times <br>\n",
        "\n",
        "Explain your answer.\n",
        "\n",
        "(This simulation doesn’t match to these sample sizes exactly, but it might help to compare the extreme sizes: https://onlinestatbook.com/stat_sim/sampling_dist/index.html)"
      ]
    },
    {
      "cell_type": "markdown",
      "id": "06270d5e-2e9e-4e76-8f8f-e3161a40b8fc",
      "metadata": {
        "id": "06270d5e-2e9e-4e76-8f8f-e3161a40b8fc"
      },
      "source": [
        "# Hypothesis Testing\n",
        "---\n",
        "There are several common inferential tests: correlation, regression, comparison of means (and non-parametric analogues).\n",
        "\n",
        "There is **ONE FRAMEWORK** - hypothesis testing.\n",
        "\n",
        "In order to try to be objective (and reduce bias), we use a hypothesis testing pipeline for inference: Applied Epistemology\n",
        "* We use systematic criteria for decision making\n",
        "* Attempts to avoid bias\n",
        "\n",
        "<div>\n",
        "<img src=\"https://raw.githubusercontent.com/awnorowski/BDSiC_2025/refs/heads/main/images/hypothesistestingpipeline.png\" width=\"50%\">\n",
        "</div>"
      ]
    },
    {
      "cell_type": "markdown",
      "id": "19ea4245-6994-4dd5-9397-fb0640aac173",
      "metadata": {
        "id": "19ea4245-6994-4dd5-9397-fb0640aac173"
      },
      "source": [
        "## Evidence: p-values and errors\n",
        "---\n",
        "### What is a p-value?\n",
        "\"The probability of obtaining your result (outcome) GIVEN THAT THE NULL HYPOTHESIS IS TRUE.\"\n",
        "\n",
        "* In hypothesis testing, there is only ONE hypothesis being tested and the null DISTRIBUTION is based on the values in this (null) hypothesis (Ho).\n",
        "* The p-value quantifies how 'weird'/'unusual' our result is.\n",
        "* Compare p-value to a pre-determined significance level $\\alpha$ (usually 0.05)\n",
        "    * if p-value < $\\alpha$ --> REJECT null hypothesis\n",
        "    * if p-value > $\\alpha$ ---> FAIL TO REJECT null hypothesis\n",
        "\n"
      ]
    },
    {
      "cell_type": "markdown",
      "id": "d29257ed-1304-4b2c-8406-da448beae6c2",
      "metadata": {
        "id": "d29257ed-1304-4b2c-8406-da448beae6c2"
      },
      "source": [
        "### Type I and Type II errors\n",
        "\n",
        "**Type 1 error** = $\\alpha$ = P\\[Rejecting Ho|Ho is true\\] = False positive <br>\n",
        "(i.e. the probability of rejecting Ho, given Ho is true)\n",
        "    \n",
        "**Type 2 error** = $\\beta$ = P\\[Failing to reject Ho|Ho is NOT true\\] = False negative <br>\n",
        "(i.e. the probability of failing to reject Ho, given Ho is NOT true)\n",
        "\n",
        "**Note:** The significance level and Type 1 error are both $\\alpha$ because your significance level represents the *highest value of Type 1 error you are willing to risk in drawing your conclusions about whether to reject Ho.*\n",
        "\n",
        "<div>\n",
        "<img src=\"https://raw.githubusercontent.com/awnorowski/BDSiC_2025/refs/heads/main/images/typeItypeIIdiagram.png\" width=\"75%\">\n",
        "</div>\n"
      ]
    },
    {
      "cell_type": "markdown",
      "id": "9571e450-e5df-48a5-b2dc-64170fc6d083",
      "metadata": {
        "id": "9571e450-e5df-48a5-b2dc-64170fc6d083"
      },
      "source": [
        "#### Example of Errors\n",
        "A story (from \"Calling Bullshit\") about evidence from huge databases... something we will all have to be better trained on in the near future.\n",
        "\n",
        "A high profile art heist without any leads except for one fingerprint. The FBI ran the fingerprint through their database and they find a match....with no alibi. What is the probability that this person committed the crime?\n",
        "\n",
        "There is a 1 in 10,000,000 chance that two different, distinct fingerprints would match (the error rate).\n",
        "\n",
        "|Truth|Match| No Match|\n",
        "|-----|-----|---------|\n",
        "Guilty|||\n",
        "Not Guilty (Innocent)|||\n",
        "\n",
        "\n",
        "So, we know - since the fingerprints gave a 'match' that the table looks like this:\n",
        "\n",
        "|Truth|Match| No Match|\n",
        "|-----|-----|---------|\n",
        "Guilty| 1 person| 0 people|\n",
        "Not Guilty (Innocent)|||\n",
        "\n",
        "How many people are in the FBI fingerprinting database? **50,000,000** and we know that there is a error in matching 1 per 10,000,000 so the table now looks like this:\n",
        "\n",
        "|Truth|Match| No Match|\n",
        "|-----|-----|---------|\n",
        "Guilty| 1 person| 0 people|\n",
        "Not Guilty (Innocent)|5 people| 50,000,000 people|\n",
        "\n",
        "So the P(Innocent|fingerprints match) = 5/6\n",
        "\n",
        "Note that this is quite different from P(fingerprints match|Innocent) = 1/10,000,000\n",
        "\n",
        "Confusing the two probabilities above is called the **prosecutors fallacy....**"
      ]
    },
    {
      "cell_type": "markdown",
      "id": "15079133-ea56-4a02-a642-dc6aaead5e86",
      "metadata": {
        "id": "15079133-ea56-4a02-a642-dc6aaead5e86"
      },
      "source": [
        "#### Confusion Matrix\n",
        "<div style=\"text-align: center\">\n",
        "<img src='https://raw.githubusercontent.com/awnorowski/BDSiC_2025/refs/heads/main/images/confusionmatrix.png' width=\"50%\">\n",
        "</div>"
      ]
    },
    {
      "cell_type": "markdown",
      "id": "cba2a221-ea60-46f8-a070-b26adafe55da",
      "metadata": {
        "id": "cba2a221-ea60-46f8-a070-b26adafe55da"
      },
      "source": [
        "### Other Important Terms in Data Science:\n",
        "1. **Power**  = 1-$\\beta$ = 1-P[FTR|Ho is not true] <-- ability to distinguish true differences\n",
        "\n",
        "2. **Sensitivity** (another name for Power, also called **Recall**) = 1-$\\beta$ = True Positive/(True Positive +False Negative)\n",
        "\n",
        "3. **Specificity** = 1-$\\alpha$ = True Negative /(True Negative + False Positive)\n",
        "\n",
        "4. **Accuracy** = (TP+TN)/(TP+TN+FP+FN)\n",
        "\n",
        "5. **Precision** = TP/(TP+FP)\n",
        "\n",
        "6. **AuROC** (Area Under the Receiver Operating Characteristic curve)\n",
        "    * Used in medical testing and diagnostic radiology etc.\n",
        "    * It is used for comparing test results across multiple thresholds\n",
        "    * Measures how well a diagnostic test can distinguish between positive and negative case\n",
        "    * Power (true positive rate, or TPR) (y axis) versus FPR (false positive rate) (x axis)\n",
        "        * FPR = 1-specificity = FP/(FP+TN)"
      ]
    },
    {
      "cell_type": "markdown",
      "id": "5c5b7803-3db1-41b2-b0d6-7a41cefa32e7",
      "metadata": {
        "id": "5c5b7803-3db1-41b2-b0d6-7a41cefa32e7"
      },
      "source": [
        "## THE PROBLEM OF MULTIPLE TESTING\n",
        "---\n",
        "Two independent studies are performed to test the same null hypothesis. What is the probability that one or both of the studies obtains a significant result and rejects the null hypothesis even if the null hypothesis is true? Assume that in each study there is a 0.05 probability of rejecting the null hypothesis.\n",
        "1. 0.025\n",
        "2. 0.10\n",
        "3. 0.075\n",
        "4. 0.05\n",
        "\n",
        "**Answer (for discussion):**"
      ]
    },
    {
      "cell_type": "markdown",
      "id": "da81023c-18af-48ea-b620-915828ba4df9",
      "metadata": {
        "id": "da81023c-18af-48ea-b620-915828ba4df9"
      },
      "source": [
        "You can consider the previous question in one of two equally valid ways:\n",
        "\n",
        "**Option 1**\n",
        "\n",
        "P\\[at least 1 study obtains significant results] = 1 - P\\[neither study obtains significant results] = 1 – (1 - 0.05)^2 = 0.0975\n",
        "\n",
        "**Option 2**\n",
        "\n",
        "P\\[1st study significant OR 2nd study is significant] = P\\[1st study significant] + P\\[2nd study significant] - P\\[both significant] = (0.05) + (0.05) – (0.05)^2 = 0.095\n",
        "\n",
        "**The ENORMOUS ISSUE: $\\alpha$=.0975**\n",
        "\n",
        "The experimenter thinks that they are using an $\\alpha$=0.05, but they are actually using an $\\alpha$=0.0975"
      ]
    },
    {
      "cell_type": "markdown",
      "id": "db71380f-bac3-42af-bdb3-c86509edfeb7",
      "metadata": {
        "id": "db71380f-bac3-42af-bdb3-c86509edfeb7"
      },
      "source": [
        "# Types of Inference Tests\n",
        "---\n",
        "- Association between variables: **Pearson's correlation coefficient**\n",
        "- Models: **Ordinary Linear Regression (OLS)**\n",
        "  - **simple linear regression**\n",
        "    - effect size\n",
        "    - p-value\n",
        "    - interpretation\n",
        "  - **multiple linear regression**\n",
        "    - confounding\n",
        "  - working with **transformed data**\n",
        "- Comparison of means: **Student's t test**\n",
        "\n",
        "Before we dive in, let's set up our notebooks and import modules."
      ]
    },
    {
      "cell_type": "code",
      "execution_count": null,
      "id": "d07aebcf-1c7d-42d8-813d-6b7941abeddc",
      "metadata": {
        "id": "d07aebcf-1c7d-42d8-813d-6b7941abeddc"
      },
      "outputs": [],
      "source": [
        "import pandas as pd\n",
        "import numpy as np\n",
        "# import matplotlib\n",
        "import matplotlib as mpl\n",
        "import matplotlib.pyplot as plt\n",
        "# Import seaborn and apply its plotting styles\n",
        "import seaborn as sns\n",
        "\n",
        "# Statmodels & patsy\n",
        "import patsy\n",
        "import statsmodels.api as sm\n",
        "import statsmodels.formula.api as smf\n",
        "\n",
        "from scipy.stats import pearsonr, norm, ttest_ind, skewnorm"
      ]
    },
    {
      "cell_type": "code",
      "execution_count": null,
      "id": "1b8da413-d368-459c-b783-260c1f51fa16",
      "metadata": {
        "id": "1b8da413-d368-459c-b783-260c1f51fa16",
        "outputId": "361ede61-b781-4415-fdd4-b70e1a7113ac"
      },
      "outputs": [
        {
          "name": "stdout",
          "output_type": "stream",
          "text": [
            "1.26.4\n",
            "2.2.2\n",
            "0.13.2\n"
          ]
        }
      ],
      "source": [
        "print(np.__version__)\n",
        "print(pd.__version__)\n",
        "print(sns.__version__)"
      ]
    },
    {
      "cell_type": "code",
      "execution_count": null,
      "id": "d7febdff-26be-4467-a3e7-150df2c94605",
      "metadata": {
        "id": "d7febdff-26be-4467-a3e7-150df2c94605"
      },
      "outputs": [],
      "source": [
        "sns.set_theme(style=\"white\",\n",
        "              font_scale=2,\n",
        "              rc={'axes.spines.right': False,'axes.spines.top': False}) # this last thing is equivalent to always having sns.despine()\n",
        "\n",
        "\n",
        "# set plotting size parameter\n",
        "plt.rcParams['figure.figsize'] = (8, 8)\n",
        "\n",
        "#improve resolution\n",
        "#%config InlineBackend.figure_format ='retina'"
      ]
    },
    {
      "cell_type": "markdown",
      "id": "f378f9b5-42b0-4cd4-b535-4e050c7a717a",
      "metadata": {
        "id": "f378f9b5-42b0-4cd4-b535-4e050c7a717a"
      },
      "source": [
        "## Correlation\n",
        "---\n",
        "Correlation is a statistical association, or relationship, between variables.\n",
        "* Pearson Correlation\n",
        "* Spearmans' correlation\n",
        "* Chi-squared test\n",
        "\n",
        "<br>\n",
        "\n",
        "**Example of correlation between quantitative variables:**\n",
        "<div>\n",
        "<img src='https://statistics.laerd.com/statistical-guides/img/pc/pearson-1-small.png' width=\"50%\">\n",
        "</div>\n",
        "\n",
        "*Image from https://statistics.laerd.com/statistical-guides/pearson-correlation-coefficient-statistical-guide.php*\n",
        "\n",
        "Correlation between quantitative variables can be assessed through correlation coefficients.\n",
        "\n",
        "<br>\n",
        "\n",
        "**Example of correlation between categorical variables**\n",
        "<div>\n",
        "<img src=\"https://raw.githubusercontent.com/awnorowski/BDSiC_2025/refs/heads/main/images/contingency.png\" width=\"50%\">\n",
        "</div>\n",
        "\n",
        "Contingency tables are used to examine correlations between categorical variables through tests like chi-squared test and Fisher's exact test.\n",
        "\n",
        "<br>\n",
        "\n",
        "**Statistics Libraries in Python**\n",
        "\n",
        "numpy, pandas and other libraries have built in functions to calculate these types of statistics."
      ]
    },
    {
      "cell_type": "markdown",
      "id": "b4c8569d-6d32-4c31-b6c7-8428448bb427",
      "metadata": {
        "id": "b4c8569d-6d32-4c31-b6c7-8428448bb427"
      },
      "source": [
        "### Correlation: Pearson correlation ($r$)\n",
        "\n",
        "- Measures the strength of association between two variables\n",
        "- Takes values [-1,1]\n",
        "- Positive Correlation\n",
        "    - $r$ > 0\n",
        "    - as $r$ approaches 1, x and y are highly correlated\n",
        "    - $r$ approaching 1 can happen with a shallow sloped line of regression\n",
        "    - $r$ approaching (not quite) 0 can happen with a steep sloped line of regression\n",
        "- Negative Correlation\n",
        "    - $r$ < 0\n",
        "    - as $r$ approaches -1, x and y are highly negatively correlated\n",
        "    - $r$ approaching -1 can happen with a shallow sloped line of regression\n",
        "    - $r$ approaching (not quite) 0 can happen with a steep sloped line of regression\n",
        "- Zero Correlation\n",
        "   - $r \\approx 0$\n",
        "   - as $r$ approaches 0, x and y are not correlated\n",
        "   - as $r$ approaches 0, the slope of the line of regression becomes 0 (horizontal)\n",
        "\n",
        "<div>\n",
        "<img src='https://statistics.laerd.com/statistical-guides/img/pc/pearson-2-small.png' width=\"50%\">\n",
        "</div>\n",
        "\n",
        "*Image from https://statistics.laerd.com/statistical-guides/pearson-correlation-coefficient-statistical-guide.php*\n",
        "\n",
        "<br>\n",
        "\n",
        "Let's examine a coding example."
      ]
    },
    {
      "cell_type": "code",
      "execution_count": null,
      "id": "a13e0c80-ddce-4c07-85d4-4e0566beb886",
      "metadata": {
        "id": "a13e0c80-ddce-4c07-85d4-4e0566beb886",
        "outputId": "d906b81b-5d58-4ed8-f76c-05ba2cd83612"
      },
      "outputs": [
        {
          "name": "stdout",
          "output_type": "stream",
          "text": [
            "correlation coefficients:\n",
            " [[1.         0.00404702]\n",
            " [0.00404702 1.        ]]\n"
          ]
        },
        {
          "data": {
            "image/png": "[encoded data removed]",
            "text/plain": [
              "<Figure size 800x800 with 1 Axes>"
            ]
          },
          "metadata": {},
          "output_type": "display_data"
        }
      ],
      "source": [
        "np.random.seed(1)\n",
        "\n",
        "# x and y are uncorrelated because they are independent draws of random numbers\n",
        "# the value of x does not depend on the corresponding value of y and vice versa\n",
        "x = np.random.randint(0, 50, 1000)\n",
        "y = np.random.randint(0, 50, 1000)\n",
        "\n",
        "plt.scatter(x, y, s=50);\n",
        "print('correlation coefficients:\\n', np.corrcoef(x, y))"
      ]
    },
    {
      "cell_type": "code",
      "execution_count": null,
      "id": "320c6cc3-20eb-4bf5-b5b8-3e9f36b67956",
      "metadata": {
        "id": "320c6cc3-20eb-4bf5-b5b8-3e9f36b67956",
        "outputId": "58ddbf76-eea3-427a-b7c7-60156822d32e"
      },
      "outputs": [
        {
          "data": {
            "image/png": "[encoded data removed]",
            "text/plain": [
              "<Figure size 800x800 with 1 Axes>"
            ]
          },
          "metadata": {},
          "output_type": "display_data"
        }
      ],
      "source": [
        "# Quick: what would you expect the correlation to be in the following:\n",
        "# --------------------------------\n",
        "# setting a random seed makes this answer repeatable\n",
        "np.random.seed(888)\n",
        "\n",
        "# 1000 random integers between 0 and 50\n",
        "x = np.random.randint(0, 50, 200)\n",
        "y = x + np.random.normal(0, 10, 200)\n",
        "\n",
        "plt.scatter(x, y, s=50);"
      ]
    },
    {
      "cell_type": "markdown",
      "id": "c027d631-39cf-48fe-a83d-4dfd5e9ea4c8",
      "metadata": {
        "id": "c027d631-39cf-48fe-a83d-4dfd5e9ea4c8"
      },
      "source": [
        "## Models (Regression)\n",
        "---\n",
        "\n",
        "Regression: Does a change in one variable change another variable?\n",
        "* ordinary least squares, line of best fit\n",
        "* assumptions (especially no multicollinearity)\n",
        "* problem of overfitting\n",
        "* problem of confounding (shoe size and literacy)\n",
        "* stratification can change outcomes and relationship\n",
        "\n",
        "**To learn about regression, we will examine a dataset on poverty levels across US states:**"
      ]
    },
    {
      "cell_type": "code",
      "execution_count": null,
      "id": "715857f5-4f9f-4457-a2a6-85b60de85721",
      "metadata": {
        "id": "715857f5-4f9f-4457-a2a6-85b60de85721",
        "outputId": "1e83cf3a-6485-4129-d45d-a7bd1b677ea5"
      },
      "outputs": [
        {
          "data": {
            "text/html": [
              "<div>\n",
              "<style scoped>\n",
              "    .dataframe tbody tr th:only-of-type {\n",
              "        vertical-align: middle;\n",
              "    }\n",
              "\n",
              "    .dataframe tbody tr th {\n",
              "        vertical-align: top;\n",
              "    }\n",
              "\n",
              "    .dataframe thead th {\n",
              "        text-align: right;\n",
              "    }\n",
              "</style>\n",
              "<table border=\"1\" class=\"dataframe\">\n",
              "  <thead>\n",
              "    <tr style=\"text-align: right;\">\n",
              "      <th></th>\n",
              "      <th>PovPct</th>\n",
              "      <th>Brth15to17</th>\n",
              "      <th>Brth18to19</th>\n",
              "      <th>ViolCrime</th>\n",
              "      <th>TeenBrth</th>\n",
              "    </tr>\n",
              "    <tr>\n",
              "      <th>Location</th>\n",
              "      <th></th>\n",
              "      <th></th>\n",
              "      <th></th>\n",
              "      <th></th>\n",
              "      <th></th>\n",
              "    </tr>\n",
              "  </thead>\n",
              "  <tbody>\n",
              "    <tr>\n",
              "      <th>Alabama</th>\n",
              "      <td>20.1</td>\n",
              "      <td>31.5</td>\n",
              "      <td>88.7</td>\n",
              "      <td>11.2</td>\n",
              "      <td>54.5</td>\n",
              "    </tr>\n",
              "    <tr>\n",
              "      <th>Alaska</th>\n",
              "      <td>7.1</td>\n",
              "      <td>18.9</td>\n",
              "      <td>73.7</td>\n",
              "      <td>9.1</td>\n",
              "      <td>39.5</td>\n",
              "    </tr>\n",
              "    <tr>\n",
              "      <th>Arizona</th>\n",
              "      <td>16.1</td>\n",
              "      <td>35.0</td>\n",
              "      <td>102.5</td>\n",
              "      <td>10.4</td>\n",
              "      <td>61.2</td>\n",
              "    </tr>\n",
              "    <tr>\n",
              "      <th>Arkansas</th>\n",
              "      <td>14.9</td>\n",
              "      <td>31.6</td>\n",
              "      <td>101.7</td>\n",
              "      <td>10.4</td>\n",
              "      <td>59.9</td>\n",
              "    </tr>\n",
              "    <tr>\n",
              "      <th>California</th>\n",
              "      <td>16.7</td>\n",
              "      <td>22.6</td>\n",
              "      <td>69.1</td>\n",
              "      <td>11.2</td>\n",
              "      <td>41.1</td>\n",
              "    </tr>\n",
              "  </tbody>\n",
              "</table>\n",
              "</div>"
            ],
            "text/plain": [
              "            PovPct  Brth15to17  Brth18to19  ViolCrime  TeenBrth\n",
              "Location                                                       \n",
              "Alabama       20.1        31.5        88.7       11.2      54.5\n",
              "Alaska         7.1        18.9        73.7        9.1      39.5\n",
              "Arizona       16.1        35.0       102.5       10.4      61.2\n",
              "Arkansas      14.9        31.6       101.7       10.4      59.9\n",
              "California    16.7        22.6        69.1       11.2      41.1"
            ]
          },
          "execution_count": 6,
          "metadata": {},
          "output_type": "execute_result"
        }
      ],
      "source": [
        "# data on poverty in states: https://raw.githubusercontent.com/shanellis/datasets/master/index.txt\n",
        "df = (pd.read_csv('https://raw.githubusercontent.com/shanellis/datasets/master/index.txt', sep='\\t')\n",
        "      .set_index('Location') )\n",
        "df.head()\n",
        "# spend some time exploring this data set!\n"
      ]
    },
    {
      "cell_type": "markdown",
      "id": "854769e2-f0c8-42b8-b8d4-884f0485cf2a",
      "metadata": {
        "id": "854769e2-f0c8-42b8-b8d4-884f0485cf2a"
      },
      "source": [
        "**So, which two variables from the poverty/state data above...**\n",
        "would you like to explore with a linear regression?  I'm going to start with my own pick, but you can modify these cells to do what you want :)"
      ]
    },
    {
      "cell_type": "markdown",
      "id": "4461c7d5-d137-404b-b819-9b019d216034",
      "metadata": {
        "id": "4461c7d5-d137-404b-b819-9b019d216034"
      },
      "source": [
        "### Assumptions of Linear Regression\n",
        "\n",
        "1. Linear relationship\n",
        "2. No multicollinearity\n",
        "    * correlation of several independent variables\n",
        "3. No auto-correlation\n",
        "    * correlation of a time-based signal with a delayed/lagged version of the same signal\n",
        "4. Homoscedasticity\n",
        "    * the variance of the errors of the model is constant (or, the spread of the data around the regression line is constant)\n",
        "\n",
        "\n",
        "In a simple linear regression model, the estimate regression line is given by:\n",
        "$$outcome = \\beta_0 + \\beta_1*predictor$$\n",
        "\n",
        "<br>\n",
        "\n",
        "Let's check these assumptions in the data!\n",
        "\n",
        "* There's no multi colinearity because we are only exploring two variables.\n",
        "* There's no auto-correlation because there's no time variable here.\n",
        "\n",
        "You can check for all of these issues with tools built into our regression package [`statsmodels`](https://www.statsmodels.org/stable/diagnostic.html).\n",
        "\n",
        "### Using `statsmodels` for Regression\n",
        "We will use the `statsmodels` package to build an ordinary linear regression with the `.ols` function."
      ]
    },
    {
      "cell_type": "code",
      "execution_count": null,
      "id": "3cdab7bd-96d0-48c2-9464-fe9ee572f483",
      "metadata": {
        "id": "3cdab7bd-96d0-48c2-9464-fe9ee572f483"
      },
      "outputs": [],
      "source": [
        "# import statsmodels.api as sm\n",
        "# import statsmodels.formula.api as smf\n",
        "\n",
        "# There is an OLD SKOOL way to do this using just statsmodels.api,\n",
        "# but its much nicer to use the MODERN formulae interface instead!\n",
        "# I suggest that you just always use this!\n",
        "model = smf.ols(formula='TeenBrth ~ PovPct', data=df)\n"
      ]
    },
    {
      "cell_type": "code",
      "execution_count": null,
      "id": "2d812a45-35c9-4656-80de-6bac5721770b",
      "metadata": {
        "id": "2d812a45-35c9-4656-80de-6bac5721770b",
        "outputId": "a283e3b7-a7d2-4034-b586-9e5978751d64"
      },
      "outputs": [
        {
          "data": {
            "text/plain": [
              "1.0"
            ]
          },
          "execution_count": 9,
          "metadata": {},
          "output_type": "execute_result"
        }
      ],
      "source": [
        "model.# tab complete to see all the things inside the model object"
      ]
    },
    {
      "cell_type": "code",
      "execution_count": null,
      "id": "9c954926-eb0c-4682-a85b-b3b1425a05c7",
      "metadata": {
        "id": "9c954926-eb0c-4682-a85b-b3b1425a05c7",
        "outputId": "754cb878-290a-4fdf-8f86-6d9c817e1058"
      },
      "outputs": [
        {
          "name": "stdout",
          "output_type": "stream",
          "text": [
            "                            OLS Regression Results                            \n",
            "==============================================================================\n",
            "Dep. Variable:               TeenBrth   R-squared:                       0.495\n",
            "Model:                            OLS   Adj. R-squared:                  0.484\n",
            "Method:                 Least Squares   F-statistic:                     47.95\n",
            "Date:                Mon, 19 May 2025   Prob (F-statistic):           8.67e-09\n",
            "Time:                        15:13:57   Log-Likelihood:                -182.53\n",
            "No. Observations:                  51   AIC:                             369.1\n",
            "Df Residuals:                      49   BIC:                             372.9\n",
            "Df Model:                           1                                         \n",
            "Covariance Type:            nonrobust                                         \n",
            "==============================================================================\n",
            "                 coef    std err          t      P>|t|      [0.025      0.975]\n",
            "------------------------------------------------------------------------------\n",
            "Intercept     15.6737      4.032      3.888      0.000       7.571      23.776\n",
            "PovPct         2.0255      0.292      6.925      0.000       1.438       2.613\n",
            "==============================================================================\n",
            "Omnibus:                        2.300   Durbin-Watson:                   2.221\n",
            "Prob(Omnibus):                  0.317   Jarque-Bera (JB):                1.377\n",
            "Skew:                           0.046   Prob(JB):                        0.502\n",
            "Kurtosis:                       2.200   Cond. No.                         45.1\n",
            "==============================================================================\n",
            "\n",
            "Notes:\n",
            "[1] Standard Errors assume that the covariance matrix of the errors is correctly specified.\n"
          ]
        }
      ],
      "source": [
        "## fit the model\n",
        "results = model.fit()\n",
        "\n",
        "## look at the results\n",
        "print(results.summary())"
      ]
    },
    {
      "cell_type": "markdown",
      "id": "9ba4abb9-d867-40ac-8051-a53dc67636f0",
      "metadata": {
        "id": "9ba4abb9-d867-40ac-8051-a53dc67636f0"
      },
      "source": [
        "#### Question #1\n",
        "\n",
        "What is the effect size of the relationship between Poverty Percentage and Teen Birth Rate?\n",
        "\n",
        "- A) 15.67\n",
        "- B) 2.03\n",
        "- C) 4.032\n",
        "- D) 0.495\n",
        "\n",
        "**Answer:**"
      ]
    },
    {
      "cell_type": "markdown",
      "id": "d9b9cecd-c60c-43e9-ab7a-995cd7cf2513",
      "metadata": {
        "id": "d9b9cecd-c60c-43e9-ab7a-995cd7cf2513"
      },
      "source": [
        "First, let's examine our equation:\n",
        "$$outcome = \\beta_0 + \\beta_1*predictor$$\n",
        "$$ Teen Birth = 15.67 + 2.03  * Poverty Percentage $$\n",
        "- If the Poverty Percentage were 0, the Teen Birth Rate would be **15.67** (The Intercept, $\\beta_0$)\n",
        "- For every 1 unit increase in Poverty Percentage, you expect to see a **2.03** unit increase in Teen Birth Rate (The effect size, $\\beta_1$)"
      ]
    },
    {
      "cell_type": "markdown",
      "id": "3d26226b-6e6b-4816-8e28-c0cc5afd4e37",
      "metadata": {
        "id": "3d26226b-6e6b-4816-8e28-c0cc5afd4e37"
      },
      "source": [
        "#### Question #2\n",
        "\n",
        "Which value represents the expected Teen Birth Rate if the Poverty Percentage were 0?\n",
        "\n",
        "- A) 15.67\n",
        "- B) 2.03\n",
        "- C) 4.032\n",
        "- D) 0.495\n",
        "\n",
        "**Answer:**"
      ]
    },
    {
      "cell_type": "markdown",
      "id": "abcf34a1-0cca-4bdb-83b8-83e5e004e053",
      "metadata": {
        "id": "abcf34a1-0cca-4bdb-83b8-83e5e004e053"
      },
      "source": [
        "Again, let's examine our equation:\n",
        "$$outcome = \\beta_0 + \\beta_1*predictor$$\n",
        "$$ Teen Birth = 15.67 + 2.03  * Poverty Percentage $$\n",
        "- If the Poverty Percentage were 0, the Teen Birth Rate would be **15.67** (the intercept, $\\beta_0$)"
      ]
    },
    {
      "cell_type": "markdown",
      "id": "1dbb129d-7c91-41ba-a41f-9dad3e8c4e36",
      "metadata": {
        "id": "1dbb129d-7c91-41ba-a41f-9dad3e8c4e36"
      },
      "source": [
        "#### Estimates:"
      ]
    },
    {
      "cell_type": "code",
      "execution_count": null,
      "id": "bbf6fa9e-358d-45e4-b341-363e93e06cd3",
      "metadata": {
        "id": "bbf6fa9e-358d-45e4-b341-363e93e06cd3",
        "outputId": "321c7c93-c003-4919-e597-206c20c4248a"
      },
      "outputs": [
        {
          "data": {
            "image/png": "[encoded data removed]",
            "text/plain": [
              "<Figure size 800x800 with 1 Axes>"
            ]
          },
          "metadata": {},
          "output_type": "display_data"
        }
      ],
      "source": [
        "# Plot the orginal data (as before)\n",
        "sns.scatterplot(x='PovPct', y='TeenBrth', data=df, s=100)\n",
        "\n",
        "# Generate and plot the model fit line\n",
        "xs = np.arange(df['PovPct'].min(), df['PovPct'].max())\n",
        "ys = results.params.iloc[1] * xs + results.params.iloc[0]\n",
        "plt.plot(xs, ys, '--k', linewidth=4, label='Model')\n",
        "\n",
        "# make the title tell us model parameters: chatGPT was helpful for this code!\n",
        "vals='$y={:.3f}x + {:.3f}, p={:.3f}, r={:.3f}, r^2={:.3f}$'.format(results.params.iloc[0],\n",
        "                                                                   results.params.iloc[1],\n",
        "                                                                   results.pvalues.iloc[1],\n",
        "                                                                   df[['PovPct','TeenBrth']].corr().iloc[0,1],\n",
        "                                                                   results.rsquared)\n",
        "plt.title(vals);\n",
        "\n",
        "plt.xlabel('Poverty Percentage')\n",
        "plt.ylabel('Teen Birth Rate')\n",
        "plt.legend();"
      ]
    },
    {
      "cell_type": "markdown",
      "id": "41a92d38-b0c2-4eed-88ed-c23f0ab2ca87",
      "metadata": {
        "id": "41a92d38-b0c2-4eed-88ed-c23f0ab2ca87"
      },
      "source": [
        "Based on the graph:\n",
        "\n",
        "If I told you the Poverty Percentage of a state was 15, what would you estimate would be its Teen Birth Rate?\n",
        "- A) ~ 0\n",
        "- B) ~ 35\n",
        "- C) ~ 45\n",
        "- D) ~ 55\n",
        "- E) ~ 60\n",
        "\n",
        "<br>\n",
        "\n",
        "Which of the following is a reasonable estimate (guess) of Teen Birth Rate for a state with a Poverty Percentage of 20?\n",
        "\n",
        "- A) 55.99\n",
        "- B) 56.27\n",
        "- C) 56.5\n",
        "- D) A - C\n",
        "- E) None of the above\n",
        "\n",
        "<br>\n",
        "\n",
        "What is our conclusion from this analysis? (Question: Is Poverty Percentage correlated with Teen Birth Rate?)\n",
        "\n",
        "- A) Reject the null; There is no relationship between Poverty Percentage and Teen Birth Rate\n",
        "- B) Reject the null; There is a relationship between Poverty Percentage and Teen Birth Rate\n",
        "- C) Fail to reject the null; There is no relationship between Poverty Percentage and Teen Birth Rate\n",
        "- D) Fail to reject the null; There is a relationship between Poverty Percentage and Teen Birth Rate\n",
        "\n",
        "<br>\n",
        "\n",
        "**REMEMBER**: Correlation $\\neq$ Causation!\n",
        "\n",
        "If we conclude there is a relationship between the variables, we still do **_NOT_** know whether poverty percentage increases cause teen birth rate increases or vice versa. There could be other variables or factors causing this relationship!"
      ]
    },
    {
      "cell_type": "markdown",
      "id": "d6b2f660-3c79-421d-98a7-2928136e6cce",
      "metadata": {
        "id": "d6b2f660-3c79-421d-98a7-2928136e6cce"
      },
      "source": [
        "### Multiple Linear Regression\n",
        "\n",
        "So far, we've only been looking at the relationship between one measure (Poverty Percentage) and Teen Birth.\n",
        "\n",
        "*But*, Poverty Percentage is likely *not* the only thing that is correlated with Teen Birth Rate.\n",
        "\n",
        "We could imagine that Violent Crime rates in a location may be associated with Poverty Percentage and could possibly also be associated with Teen Birth Rate. (A confounder!)\n",
        "\n",
        "This is where **multiple linear regression** is incredibly helpful. Multiple linear regression allows you to measure the effect of multiple predictors on an outcome.\n",
        "\n",
        "Let's do some exploratory data analysis (EDA) first to see if our hypothesis (Violent Crime is related to Teen Birth) holds up in our data at all."
      ]
    },
    {
      "cell_type": "code",
      "execution_count": null,
      "id": "0a46e447-a886-46dd-bf79-0fc747f3d7a2",
      "metadata": {
        "id": "0a46e447-a886-46dd-bf79-0fc747f3d7a2",
        "outputId": "88c6b391-cc6c-498a-9a08-4115726f5432"
      },
      "outputs": [
        {
          "data": {
            "image/png": "[encoded data removed]",
            "text/plain": [
              "<Figure size 800x800 with 1 Axes>"
            ]
          },
          "metadata": {},
          "output_type": "display_data"
        }
      ],
      "source": [
        "# relationship between predictors\n",
        "sns.scatterplot(x='PovPct', y='ViolCrime', data=df, s=100)\n",
        "plt.xlabel('Poverty Percentage')\n",
        "plt.ylabel('Violent Crime')\n",
        "# there appears to be an outlier\n",
        "df[df['ViolCrime'] > 50]\n",
        "# removing DC\n",
        "df_noDC = df[df['ViolCrime'] < 50]\n",
        "\n",
        "# relationship between predictors\n",
        "# after removing outlier\n",
        "sns.scatterplot(x='PovPct', y='ViolCrime', data=df_noDC, s=100)\n",
        "plt.xlabel('Poverty Percentage')\n",
        "plt.ylabel('Violent Crime');\n",
        "# notice it does this cool thing where the second plot overwrites the original plot, but with orange dots.\n",
        "# the remaining blue dot is the outlier that was removed in the second plot."
      ]
    },
    {
      "cell_type": "markdown",
      "id": "742dbff1-f7cc-43ff-8cf1-f01f4718942c",
      "metadata": {
        "id": "742dbff1-f7cc-43ff-8cf1-f01f4718942c"
      },
      "source": [
        "Yay, now we can see what looks like a potentially linear relationship between poverty and violent crime.\n",
        "\n",
        "But BEWARE!  Removing an outlier WILL change the coefficients of the regression!\n",
        "\n",
        "We did it here because the outlier was so big it might destroy the linear relationship.  But that's a judgement call, there is no \"right way\" when it comes to outlier removal, except to keep track of your justification.\n",
        "\n",
        "Maybe if you've got time, you should rerun the analysis below WITHOUT removing DC... see what's different :)"
      ]
    },
    {
      "cell_type": "code",
      "execution_count": null,
      "id": "f4307ed6-b843-4ef3-bcb8-2d8c40b4f911",
      "metadata": {
        "id": "f4307ed6-b843-4ef3-bcb8-2d8c40b4f911",
        "outputId": "8673b9a4-84d3-4be4-acfe-bfb60b1249c2"
      },
      "outputs": [
        {
          "name": "stdout",
          "output_type": "stream",
          "text": [
            "                            OLS Regression Results                            \n",
            "==============================================================================\n",
            "Dep. Variable:               TeenBrth   R-squared:                       0.510\n",
            "Model:                            OLS   Adj. R-squared:                  0.500\n",
            "Method:                 Least Squares   F-statistic:                     49.94\n",
            "Date:                Mon, 19 May 2025   Prob (F-statistic):           5.81e-09\n",
            "Time:                        15:28:42   Log-Likelihood:                -176.12\n",
            "No. Observations:                  50   AIC:                             356.2\n",
            "Df Residuals:                      48   BIC:                             360.1\n",
            "Df Model:                           1                                         \n",
            "Covariance Type:            nonrobust                                         \n",
            "==============================================================================\n",
            "                 coef    std err          t      P>|t|      [0.025      0.975]\n",
            "------------------------------------------------------------------------------\n",
            "Intercept     26.0510      2.511     10.374      0.000      21.002      31.100\n",
            "ViolCrime      2.3324      0.330      7.067      0.000       1.669       2.996\n",
            "==============================================================================\n",
            "Omnibus:                        1.261   Durbin-Watson:                   2.113\n",
            "Prob(Omnibus):                  0.532   Jarque-Bera (JB):                1.072\n",
            "Skew:                          -0.144   Prob(JB):                        0.585\n",
            "Kurtosis:                       2.343   Cond. No.                         16.4\n",
            "==============================================================================\n",
            "\n",
            "Notes:\n",
            "[1] Standard Errors assume that the covariance matrix of the errors is correctly specified.\n",
            "                            OLS Regression Results                            \n",
            "==============================================================================\n",
            "Dep. Variable:               TeenBrth   R-squared:                       0.637\n",
            "Model:                            OLS   Adj. R-squared:                  0.621\n",
            "Method:                 Least Squares   F-statistic:                     41.17\n",
            "Date:                Mon, 19 May 2025   Prob (F-statistic):           4.67e-11\n",
            "Time:                        15:28:43   Log-Likelihood:                -168.65\n",
            "No. Observations:                  50   AIC:                             343.3\n",
            "Df Residuals:                      47   BIC:                             349.0\n",
            "Df Model:                           2                                         \n",
            "Covariance Type:            nonrobust                                         \n",
            "==============================================================================\n",
            "                 coef    std err          t      P>|t|      [0.025      0.975]\n",
            "------------------------------------------------------------------------------\n",
            "Intercept     15.3419      3.431      4.471      0.000       8.439      22.245\n",
            "PovPct         1.1905      0.294      4.048      0.000       0.599       1.782\n",
            "ViolCrime      1.6327      0.335      4.871      0.000       0.958       2.307\n",
            "==============================================================================\n",
            "Omnibus:                        0.723   Durbin-Watson:                   2.118\n",
            "Prob(Omnibus):                  0.697   Jarque-Bera (JB):                0.649\n",
            "Skew:                          -0.265   Prob(JB):                        0.723\n",
            "Kurtosis:                       2.825   Cond. No.                         51.3\n",
            "==============================================================================\n",
            "\n",
            "Notes:\n",
            "[1] Standard Errors assume that the covariance matrix of the errors is correctly specified.\n"
          ]
        }
      ],
      "source": [
        "mod = smf.ols(formula='TeenBrth ~ ViolCrime', data=df_noDC)\n",
        "resvc = mod.fit()\n",
        "print(resvc.summary())\n",
        "\n",
        "mod = smf.ols(formula='TeenBrth ~ PovPct + ViolCrime', data=df_noDC)\n",
        "res = mod.fit()\n",
        "print(res.summary())"
      ]
    },
    {
      "cell_type": "markdown",
      "id": "817ca40c-1b97-4e5e-b6a5-f032ce8d888f",
      "metadata": {
        "id": "817ca40c-1b97-4e5e-b6a5-f032ce8d888f"
      },
      "source": [
        "\n",
        "Which has a larger effect on Teen Birth Rate?\n",
        "\n",
        "- A) Poverty Percentage\n",
        "- B) Violent Crime\n",
        "- C) Effect is equal across all predictors\n",
        "- D) No predictors have an effect on outcome"
      ]
    },
    {
      "cell_type": "markdown",
      "id": "c57cfce3-84fb-4605-8294-4e7b86fc4ba9",
      "metadata": {
        "id": "c57cfce3-84fb-4605-8294-4e7b86fc4ba9"
      },
      "source": [
        "$$ Teen Birth = 15.3 + (1.19  * Poverty Percentage) + (1.63 * Violent Crime) $$\n",
        "\n",
        "If the Poverty Percentage *and* Violent Crime were both 0, the Teen Birth Rate would be **15.3** (The Intercept, aka $\\beta_0$)\n",
        "\n",
        "Holding Violent crime constant, for every 1 unit increase in Poverty Percentage, you expect to see a **1.19** unit increase in Teen Birth Rate (The effect size, $\\beta_1$)"
      ]
    },
    {
      "cell_type": "markdown",
      "id": "0e7a285a-f13e-467f-a656-5a4b29232ef5",
      "metadata": {
        "id": "0e7a285a-f13e-467f-a656-5a4b29232ef5"
      },
      "source": [
        "### Model selection\n",
        "\n",
        "We've now seen 3 different models\n",
        "1. TB ~ PP\n",
        "2. TB ~ VC\n",
        "3. TB ~ PP + VC\n",
        "\n",
        "Let's review the different model fits... hopefully they contain a way to select which model best fits the data! (spoiler, they do)"
      ]
    },
    {
      "cell_type": "code",
      "execution_count": null,
      "id": "c4a2a3a0-698b-4c79-97b6-5a7ed8eb04f8",
      "metadata": {
        "id": "c4a2a3a0-698b-4c79-97b6-5a7ed8eb04f8",
        "outputId": "654763fd-9c51-4b6b-f4b5-66cb98c8382a"
      },
      "outputs": [
        {
          "name": "stdout",
          "output_type": "stream",
          "text": [
            "                            OLS Regression Results                            \n",
            "==============================================================================\n",
            "Dep. Variable:               TeenBrth   R-squared:                       0.495\n",
            "Model:                            OLS   Adj. R-squared:                  0.484\n",
            "Method:                 Least Squares   F-statistic:                     47.95\n",
            "Date:                Mon, 19 May 2025   Prob (F-statistic):           8.67e-09\n",
            "Time:                        15:36:17   Log-Likelihood:                -182.53\n",
            "No. Observations:                  51   AIC:                             369.1\n",
            "Df Residuals:                      49   BIC:                             372.9\n",
            "Df Model:                           1                                         \n",
            "Covariance Type:            nonrobust                                         \n",
            "==============================================================================\n",
            "                 coef    std err          t      P>|t|      [0.025      0.975]\n",
            "------------------------------------------------------------------------------\n",
            "Intercept     15.6737      4.032      3.888      0.000       7.571      23.776\n",
            "PovPct         2.0255      0.292      6.925      0.000       1.438       2.613\n",
            "==============================================================================\n",
            "Omnibus:                        2.300   Durbin-Watson:                   2.221\n",
            "Prob(Omnibus):                  0.317   Jarque-Bera (JB):                1.377\n",
            "Skew:                           0.046   Prob(JB):                        0.502\n",
            "Kurtosis:                       2.200   Cond. No.                         45.1\n",
            "==============================================================================\n",
            "\n",
            "Notes:\n",
            "[1] Standard Errors assume that the covariance matrix of the errors is correctly specified.\n",
            "                            OLS Regression Results                            \n",
            "==============================================================================\n",
            "Dep. Variable:               TeenBrth   R-squared:                       0.510\n",
            "Model:                            OLS   Adj. R-squared:                  0.500\n",
            "Method:                 Least Squares   F-statistic:                     49.94\n",
            "Date:                Mon, 19 May 2025   Prob (F-statistic):           5.81e-09\n",
            "Time:                        15:36:17   Log-Likelihood:                -176.12\n",
            "No. Observations:                  50   AIC:                             356.2\n",
            "Df Residuals:                      48   BIC:                             360.1\n",
            "Df Model:                           1                                         \n",
            "Covariance Type:            nonrobust                                         \n",
            "==============================================================================\n",
            "                 coef    std err          t      P>|t|      [0.025      0.975]\n",
            "------------------------------------------------------------------------------\n",
            "Intercept     26.0510      2.511     10.374      0.000      21.002      31.100\n",
            "ViolCrime      2.3324      0.330      7.067      0.000       1.669       2.996\n",
            "==============================================================================\n",
            "Omnibus:                        1.261   Durbin-Watson:                   2.113\n",
            "Prob(Omnibus):                  0.532   Jarque-Bera (JB):                1.072\n",
            "Skew:                          -0.144   Prob(JB):                        0.585\n",
            "Kurtosis:                       2.343   Cond. No.                         16.4\n",
            "==============================================================================\n",
            "\n",
            "Notes:\n",
            "[1] Standard Errors assume that the covariance matrix of the errors is correctly specified.\n",
            "                            OLS Regression Results                            \n",
            "==============================================================================\n",
            "Dep. Variable:               TeenBrth   R-squared:                       0.637\n",
            "Model:                            OLS   Adj. R-squared:                  0.621\n",
            "Method:                 Least Squares   F-statistic:                     41.17\n",
            "Date:                Mon, 19 May 2025   Prob (F-statistic):           4.67e-11\n",
            "Time:                        15:36:17   Log-Likelihood:                -168.65\n",
            "No. Observations:                  50   AIC:                             343.3\n",
            "Df Residuals:                      47   BIC:                             349.0\n",
            "Df Model:                           2                                         \n",
            "Covariance Type:            nonrobust                                         \n",
            "==============================================================================\n",
            "                 coef    std err          t      P>|t|      [0.025      0.975]\n",
            "------------------------------------------------------------------------------\n",
            "Intercept     15.3419      3.431      4.471      0.000       8.439      22.245\n",
            "PovPct         1.1905      0.294      4.048      0.000       0.599       1.782\n",
            "ViolCrime      1.6327      0.335      4.871      0.000       0.958       2.307\n",
            "==============================================================================\n",
            "Omnibus:                        0.723   Durbin-Watson:                   2.118\n",
            "Prob(Omnibus):                  0.697   Jarque-Bera (JB):                0.649\n",
            "Skew:                          -0.265   Prob(JB):                        0.723\n",
            "Kurtosis:                       2.825   Cond. No.                         51.3\n",
            "==============================================================================\n",
            "\n",
            "Notes:\n",
            "[1] Standard Errors assume that the covariance matrix of the errors is correctly specified.\n"
          ]
        }
      ],
      "source": [
        "print(results.summary())\n",
        "print(resvc.summary())\n",
        "print(res.summary())"
      ]
    },
    {
      "cell_type": "markdown",
      "id": "9cddc556-a5ea-4951-9001-a094145f698e",
      "metadata": {
        "id": "9cddc556-a5ea-4951-9001-a094145f698e"
      },
      "source": [
        "Much of the right hand column (R-squared through BIC) of the summary table are methods of *in-sample* model selection.\n",
        "\n",
        "In-sample means that these are measures meant to be used when you are evaluating how good a model is using the same data you are using to fit the model.  In-sample stands in contrast to out-of-sample methods you might have heard of like cross-validation (which uses different subsets of the data to fit a model than it does when selecting which model to use)\n",
        "\n",
        "Lets start with R-squared.  R-squared is a **goodness-of-fit** measure for linear regression models. This statistic indicates the percentage of the variance in the dependent variable that the independent variables explain collectively.  We already know that Pearson's r having a value close to +1/-1 means the datapoints lie basically on a straight line.  When $r=1$the dots fall perfectly on the line, and knowing X uniquely determines Y... there is no noise.  When r is closer to zero noise is most of what we are seeing and knowing X doesn't tell us much about the corresponding Y value.  R-squared is literally Pearson's r, squared.  So it has the same properties plus it can be literally interpreted as \"percent of the variance of Y which is explained by knowing X\", AKA \"percent variance explained\". Models with a high amount of explained variance are models that fit their data well.\n",
        "\n",
        "But selecting a model is MORE than just \"did it fit the data well\".\n",
        "\n",
        "To do in-sample model selection you want ignore R-squared and instead look at ANY of the following metrics\n",
        "- Adj. R-squared\n",
        "- AIC  <- closer to 'truth'\n",
        "- BIC  <- including a weight for simplicity of the model\n",
        "\n",
        "Going into the math details of these different measures here is beyond the scope of this notebook.  For a full treatment I suggest Chapter 6 of the free textbook https://www.statlearning.com.  For a quick intro I found these slides useful (but in R instead of Python): https://pages.stat.wisc.edu/~ane/st572/notes/lec05.pdf\n",
        "\n",
        "For an ever quicker introduction you need to understand an important principle.... the parsimony principle.  Parsimony is the idea (AKA, Occam's razor) that if two models fit the data equally well (e.g., have the roughly the same R-squared) then we should prefer the simpler model.  How is one model simpler than the others?  A simpler model has fewer X variables than a complex one.  If we try to fit a line through 10 datapoints in 2 dimensions then it has 2 parameters (slope/intercept) and that's pretty simple.  But if we try to fit a 9th order polynomial (it has terms with $x^9, x^8, \\ldots, x$ plus an intercept) then we will *perfectly* hit all 10 datapoints with zero RSS (residual sum of squares).  But this wiggly curve will **NOT generalize** well to new data... we refer to this as an overfitted model because it is overly complex and fitting noise in the data as if it was signal.\n",
        "\n",
        "Adjusted R-squared, AIC, and BIC are all metrics that are related to each other (again math details will need to be found elsewhere....).  These metrics reflect how good a model is at fitting data, but they also have complexity penalties built into them.  If two models fit the data the same, but one is more complex these metrics will prefer the simpler model.\n",
        "\n",
        "Adjusted R-squared goes UP for better fit/simpler models and DOWN for worse fit/more complex models.\n",
        "\n",
        "AIC and BIC do the opposite.  They go DOWN for better fit/simpler models and UP for worse fit/more complex models.\n",
        "\n",
        "Any of these metrics can be used to select among different potential models (e.g., our 3 models above).  Generally BIC hates complex models more than the other two if you're looking to penalize model complexity.\n",
        "\n",
        "So let's compare our 3 models using BIC from the results tables above.... which model do you prefer?\n"
      ]
    },
    {
      "cell_type": "code",
      "execution_count": null,
      "id": "cb4f6b25-7045-4f68-812a-f70cf2ce517c",
      "metadata": {
        "id": "cb4f6b25-7045-4f68-812a-f70cf2ce517c",
        "outputId": "e14e7e2b-b435-4b7b-c356-9bd6ca74a763"
      },
      "outputs": [
        {
          "name": "stdout",
          "output_type": "stream",
          "text": [
            "                            OLS Regression Results                            \n",
            "==============================================================================\n",
            "Dep. Variable:               TeenBrth   R-squared:                       0.497\n",
            "Model:                            OLS   Adj. R-squared:                  0.476\n",
            "Method:                 Least Squares   F-statistic:                     23.74\n",
            "Date:                Mon, 19 May 2025   Prob (F-statistic):           6.80e-08\n",
            "Time:                        15:51:29   Log-Likelihood:                -182.39\n",
            "No. Observations:                  51   AIC:                             370.8\n",
            "Df Residuals:                      48   BIC:                             376.6\n",
            "Df Model:                           2                                         \n",
            "Covariance Type:            nonrobust                                         \n",
            "===================================================================================\n",
            "                      coef    std err          t      P>|t|      [0.025      0.975]\n",
            "-----------------------------------------------------------------------------------\n",
            "Intercept          16.5126      4.394      3.758      0.000       7.678      25.347\n",
            "C(Violent)[T.1]     2.1039      4.197      0.501      0.618      -6.334      10.542\n",
            "PovPct              1.9395      0.341      5.688      0.000       1.254       2.625\n",
            "==============================================================================\n",
            "Omnibus:                        2.213   Durbin-Watson:                   2.219\n",
            "Prob(Omnibus):                  0.331   Jarque-Bera (JB):                1.389\n",
            "Skew:                           0.099   Prob(JB):                        0.499\n",
            "Kurtosis:                       2.216   Cond. No.                         56.0\n",
            "==============================================================================\n",
            "\n",
            "Notes:\n",
            "[1] Standard Errors assume that the covariance matrix of the errors is correctly specified.\n"
          ]
        },
        {
          "data": {
            "image/png": "[encoded data removed]",
            "text/plain": [
              "<Figure size 800x800 with 1 Axes>"
            ]
          },
          "metadata": {},
          "output_type": "display_data"
        }
      ],
      "source": [
        "## Regressing categorical variables\n",
        "#sns.histplot(df['ViolCrime'], bins=10)\n",
        "plt.xlabel('Violent Crime')\n",
        "\n",
        "df['ViolCrime'].describe()\n",
        "\n",
        "# add a new categorical column for a 'Violent' state, arbitrarily pick a threshold from histogram\n",
        "df['Violent'] = df['ViolCrime'].apply(lambda x: 0 if x < 11 else 1)\n",
        "df.head()\n",
        "\n",
        "sns.boxplot(x='Violent', y='TeenBrth', data=df);\n",
        "\n",
        "mod = smf.ols(formula='TeenBrth ~ PovPct + C(Violent)', data=df)\n",
        "res = mod.fit()\n",
        "print(res.summary())"
      ]
    },
    {
      "cell_type": "markdown",
      "id": "556eab2a-f504-4bf4-a5e1-d500f4918560",
      "metadata": {
        "id": "556eab2a-f504-4bf4-a5e1-d500f4918560"
      },
      "source": [
        "#### Comparison of means:\n",
        "* t-tests, ANOVA, cohen's d (effect sizes)\n",
        "* Assumptions matter"
      ]
    },
    {
      "cell_type": "markdown",
      "id": "a4f7c538-4bea-400a-8742-9b0c9414594e",
      "metadata": {
        "id": "a4f7c538-4bea-400a-8742-9b0c9414594e"
      },
      "source": [
        "# Difference in means: t-test\n",
        "\n",
        "The t-test tests for a difference in means between two groups.  Now that we have a categorical variable we can use a t-test to ask if there is a difference between violent states and non-violent ones in terms of teen birth rate\n",
        "\n",
        "Student's t-test assumptions:\n",
        "\n",
        "- Data are continuous\n",
        "- Normally distributed\n",
        "- Large enough sample size\n",
        "- Equal variance b/w groups\n",
        "\n",
        "$H_0: \\bar x = \\bar y$\n",
        "\n",
        "$H_a: \\bar x \\ne \\bar y$"
      ]
    },
    {
      "cell_type": "code",
      "execution_count": null,
      "id": "c3f10648-5d4a-4e94-a029-c73d151c0f74",
      "metadata": {
        "id": "c3f10648-5d4a-4e94-a029-c73d151c0f74",
        "outputId": "f2a13691-8c24-49be-a897-675d69b01223"
      },
      "outputs": [
        {
          "data": {
            "text/plain": [
              "Violent\n",
              "0    40.306818\n",
              "1    54.414286\n",
              "Name: TeenBrth, dtype: float64"
            ]
          },
          "execution_count": 25,
          "metadata": {},
          "output_type": "execute_result"
        }
      ],
      "source": [
        " df.groupby(['Violent'])['TeenBrth'].mean()"
      ]
    },
    {
      "cell_type": "markdown",
      "id": "4a05e247-8f7e-4792-b1ac-c343e2ecaeee",
      "metadata": {
        "id": "4a05e247-8f7e-4792-b1ac-c343e2ecaeee"
      },
      "source": [
        "$H_0: \\bar x_{ViolentTeenBirthRate} = \\bar y_{NotViolentTeenBirthRate}$\n",
        "\n",
        "$H_a: \\bar x_{ViolentTeenBirthRate} \\ne \\bar y_{NotViolentTeenBirthRate}$"
      ]
    },
    {
      "cell_type": "code",
      "execution_count": null,
      "id": "ccbf47b4-f62e-43db-a47f-49a28b58e51b",
      "metadata": {
        "id": "ccbf47b4-f62e-43db-a47f-49a28b58e51b",
        "outputId": "10bd30d7-d7f3-40fa-e7af-17d546961347"
      },
      "outputs": [
        {
          "data": {
            "text/plain": [
              "TtestResult(statistic=-3.0370000153560155, pvalue=0.003822412806535174, df=49.0)"
            ]
          },
          "execution_count": 26,
          "metadata": {},
          "output_type": "execute_result"
        }
      ],
      "source": [
        "group1 = df.where(df.Violent==0).dropna()['TeenBrth']\n",
        "group2 = df.where(df.Violent==1).dropna()['TeenBrth']\n",
        "\n",
        "ttest_ind(group1, group2)"
      ]
    },
    {
      "cell_type": "markdown",
      "id": "5490be58-5378-4b3f-9d70-0f666de5417f",
      "metadata": {
        "id": "5490be58-5378-4b3f-9d70-0f666de5417f"
      },
      "source": [
        "The p-value here is $0.004$ ...which means that observing this difference in means due to random chance alone is unlikely.\n",
        "\n",
        "By standard inferential threshold of $p=0.05$ we could reject the null in favor of the alternative hypothesis, concluding that the means between the groups are not the same.\n",
        "\n",
        "NOW bad news... if we pick a different threshold for violence in a state, or if we kept DC in the data these values (and conclusion) would probably change!\n",
        "\n",
        "\n",
        "# Multicolinearity\n",
        "Lets force a colinearity problem by making a synthetic variable to show you what to look out for...\n",
        "Specifically note that\n",
        "1. condition number is large... that's diagnosing the issue\n",
        "2. coefficient on violent crime changes dramatically from before\n",
        "3. coefficient on pseudoVC is similar in magnitude to violent crime, robbing it of the explanatory power it deserves\n",
        "4. the sum of coefficients doesn't arrive at the total it was at in previous model... again robbing it of explanatory power"
      ]
    },
    {
      "cell_type": "code",
      "execution_count": null,
      "id": "f7f250d7-0657-46ba-a52e-382171183848",
      "metadata": {
        "id": "f7f250d7-0657-46ba-a52e-382171183848",
        "outputId": "d2124879-6e76-4f43-e9e5-dcdcc4d46230"
      },
      "outputs": [
        {
          "name": "stdout",
          "output_type": "stream",
          "text": [
            "                            OLS Regression Results                            \n",
            "==============================================================================\n",
            "Dep. Variable:               TeenBrth   R-squared:                       0.561\n",
            "Model:                            OLS   Adj. R-squared:                  0.533\n",
            "Method:                 Least Squares   F-statistic:                     20.05\n",
            "Date:                Mon, 19 May 2025   Prob (F-statistic):           1.65e-08\n",
            "Time:                        16:20:31   Log-Likelihood:                -178.92\n",
            "No. Observations:                  51   AIC:                             365.8\n",
            "Df Residuals:                      47   BIC:                             373.6\n",
            "Df Model:                           3                                         \n",
            "Covariance Type:            nonrobust                                         \n",
            "==============================================================================\n",
            "                 coef    std err          t      P>|t|      [0.025      0.975]\n",
            "------------------------------------------------------------------------------\n",
            "Intercept      2.8608    103.417      0.028      0.978    -205.186     210.908\n",
            "PovPct         1.6310      0.315      5.175      0.000       0.997       2.265\n",
            "ViolCrime     -0.0603      3.238     -0.019      0.985      -6.574       6.453\n",
            "pseudoVC       0.1290      0.899      0.143      0.887      -1.680       1.938\n",
            "==============================================================================\n",
            "Omnibus:                        1.476   Durbin-Watson:                   2.239\n",
            "Prob(Omnibus):                  0.478   Jarque-Bera (JB):                1.100\n",
            "Skew:                           0.068   Prob(JB):                        0.577\n",
            "Kurtosis:                       2.293   Cond. No.                     1.29e+04\n",
            "==============================================================================\n",
            "\n",
            "Notes:\n",
            "[1] Standard Errors assume that the covariance matrix of the errors is correctly specified.\n",
            "[2] The condition number is large, 1.29e+04. This might indicate that there are\n",
            "strong multicollinearity or other numerical problems.\n"
          ]
        }
      ],
      "source": [
        "# np.random.rand() allows us to add randon noise\n",
        "# creating a column called pseudoVC that is: 3.6ViolCrime+112+Random Noise\n",
        "df['pseudoVC'] = df['ViolCrime'] * 3.6 + 112 + 5*np.random.rand(len(df))\n",
        "mod = smf.ols(formula='TeenBrth ~ PovPct + ViolCrime + pseudoVC', data=df)\n",
        "res = mod.fit()\n",
        "print(res.summary())"
      ]
    },
    {
      "cell_type": "markdown",
      "id": "5e9525fc-13af-4b34-aa71-87a2eab3ce52",
      "metadata": {
        "id": "5e9525fc-13af-4b34-aa71-87a2eab3ce52"
      },
      "source": [
        "# Regression with transformed data\n",
        "\n",
        "So far, we've been working with data that were approximately Normal and didn't require transformation. But that won't always be the case..."
      ]
    },
    {
      "cell_type": "code",
      "execution_count": null,
      "id": "0ca59309-e9cf-4fb6-9c17-edb4238a2ee1",
      "metadata": {
        "id": "0ca59309-e9cf-4fb6-9c17-edb4238a2ee1",
        "outputId": "720da8d7-cb1c-41f9-a1fa-a5d3ea8124ac"
      },
      "outputs": [
        {
          "data": {
            "text/html": [
              "<div>\n",
              "<style scoped>\n",
              "    .dataframe tbody tr th:only-of-type {\n",
              "        vertical-align: middle;\n",
              "    }\n",
              "\n",
              "    .dataframe tbody tr th {\n",
              "        vertical-align: top;\n",
              "    }\n",
              "\n",
              "    .dataframe thead th {\n",
              "        text-align: right;\n",
              "    }\n",
              "</style>\n",
              "<table border=\"1\" class=\"dataframe\">\n",
              "  <thead>\n",
              "    <tr style=\"text-align: right;\">\n",
              "      <th></th>\n",
              "      <th>name</th>\n",
              "      <th>genus</th>\n",
              "      <th>vore</th>\n",
              "      <th>order</th>\n",
              "      <th>conservation</th>\n",
              "      <th>sleep_total</th>\n",
              "      <th>sleep_rem</th>\n",
              "      <th>sleep_cycle</th>\n",
              "      <th>awake</th>\n",
              "      <th>brainwt</th>\n",
              "      <th>bodywt</th>\n",
              "    </tr>\n",
              "  </thead>\n",
              "  <tbody>\n",
              "    <tr>\n",
              "      <th>0</th>\n",
              "      <td>Cheetah</td>\n",
              "      <td>Acinonyx</td>\n",
              "      <td>carni</td>\n",
              "      <td>Carnivora</td>\n",
              "      <td>lc</td>\n",
              "      <td>12.1</td>\n",
              "      <td>NaN</td>\n",
              "      <td>NaN</td>\n",
              "      <td>11.9</td>\n",
              "      <td>NaN</td>\n",
              "      <td>50.000</td>\n",
              "    </tr>\n",
              "    <tr>\n",
              "      <th>1</th>\n",
              "      <td>Owl monkey</td>\n",
              "      <td>Aotus</td>\n",
              "      <td>omni</td>\n",
              "      <td>Primates</td>\n",
              "      <td>NaN</td>\n",
              "      <td>17.0</td>\n",
              "      <td>1.8</td>\n",
              "      <td>NaN</td>\n",
              "      <td>7.0</td>\n",
              "      <td>0.01550</td>\n",
              "      <td>0.480</td>\n",
              "    </tr>\n",
              "    <tr>\n",
              "      <th>2</th>\n",
              "      <td>Mountain beaver</td>\n",
              "      <td>Aplodontia</td>\n",
              "      <td>herbi</td>\n",
              "      <td>Rodentia</td>\n",
              "      <td>nt</td>\n",
              "      <td>14.4</td>\n",
              "      <td>2.4</td>\n",
              "      <td>NaN</td>\n",
              "      <td>9.6</td>\n",
              "      <td>NaN</td>\n",
              "      <td>1.350</td>\n",
              "    </tr>\n",
              "    <tr>\n",
              "      <th>3</th>\n",
              "      <td>Greater short-tailed shrew</td>\n",
              "      <td>Blarina</td>\n",
              "      <td>omni</td>\n",
              "      <td>Soricomorpha</td>\n",
              "      <td>lc</td>\n",
              "      <td>14.9</td>\n",
              "      <td>2.3</td>\n",
              "      <td>0.133333</td>\n",
              "      <td>9.1</td>\n",
              "      <td>0.00029</td>\n",
              "      <td>0.019</td>\n",
              "    </tr>\n",
              "    <tr>\n",
              "      <th>4</th>\n",
              "      <td>Cow</td>\n",
              "      <td>Bos</td>\n",
              "      <td>herbi</td>\n",
              "      <td>Artiodactyla</td>\n",
              "      <td>domesticated</td>\n",
              "      <td>4.0</td>\n",
              "      <td>0.7</td>\n",
              "      <td>0.666667</td>\n",
              "      <td>20.0</td>\n",
              "      <td>0.42300</td>\n",
              "      <td>600.000</td>\n",
              "    </tr>\n",
              "  </tbody>\n",
              "</table>\n",
              "</div>"
            ],
            "text/plain": [
              "                         name       genus   vore         order  conservation  \\\n",
              "0                     Cheetah    Acinonyx  carni     Carnivora            lc   \n",
              "1                  Owl monkey       Aotus   omni      Primates           NaN   \n",
              "2             Mountain beaver  Aplodontia  herbi      Rodentia            nt   \n",
              "3  Greater short-tailed shrew     Blarina   omni  Soricomorpha            lc   \n",
              "4                         Cow         Bos  herbi  Artiodactyla  domesticated   \n",
              "\n",
              "   sleep_total  sleep_rem  sleep_cycle  awake  brainwt   bodywt  \n",
              "0         12.1        NaN          NaN   11.9      NaN   50.000  \n",
              "1         17.0        1.8          NaN    7.0  0.01550    0.480  \n",
              "2         14.4        2.4          NaN    9.6      NaN    1.350  \n",
              "3         14.9        2.3     0.133333    9.1  0.00029    0.019  \n",
              "4          4.0        0.7     0.666667   20.0  0.42300  600.000  "
            ]
          },
          "execution_count": 30,
          "metadata": {},
          "output_type": "execute_result"
        }
      ],
      "source": [
        "sleep = pd.read_csv('https://raw.githubusercontent.com/shanellis/datasets/master/msleep.csv')\n",
        "sleep.head()\n",
        "# What if we were interested in quantifying the **effect that REM sleep has on total sleep**?\n",
        "# We may hypothesize that the more REM sleep an animal gets the less total sleep it needs."
      ]
    },
    {
      "cell_type": "code",
      "execution_count": null,
      "id": "b7ba5c99-5d1e-422a-9e76-027bbcc6c546",
      "metadata": {
        "id": "b7ba5c99-5d1e-422a-9e76-027bbcc6c546",
        "outputId": "b66adcb3-5621-4441-db5d-d1418b4ff044"
      },
      "outputs": [
        {
          "data": {
            "image/png": "[encoded data removed]",
            "text/plain": [
              "<Figure size 800x800 with 1 Axes>"
            ]
          },
          "metadata": {},
          "output_type": "display_data"
        }
      ],
      "source": [
        "sns.histplot(sleep['sleep_rem'].dropna())\n",
        "plt.xlabel('REM Sleep (hours/night)');\n",
        "#These data are skewed right, and transforming these data could help us use them in analysis..."
      ]
    },
    {
      "cell_type": "code",
      "execution_count": null,
      "id": "37e6df92-f05f-4e77-906e-fca590858c4e",
      "metadata": {
        "id": "37e6df92-f05f-4e77-906e-fca590858c4e",
        "outputId": "7723c012-f844-4e73-b206-e78bb29ee0ef"
      },
      "outputs": [
        {
          "data": {
            "image/png": "[encoded data removed]",
            "text/plain": [
              "<Figure size 800x800 with 1 Axes>"
            ]
          },
          "metadata": {},
          "output_type": "display_data"
        }
      ],
      "source": [
        "sns.scatterplot(x='sleep_rem', y='sleep_total', data=sleep, s=100)\n",
        "plt.xlabel('REM Sleep')\n",
        "plt.ylabel('Total Sleep');"
      ]
    },
    {
      "cell_type": "code",
      "execution_count": null,
      "id": "0a06e3aa-f97a-4f79-aa9e-1817aeee981e",
      "metadata": {
        "id": "0a06e3aa-f97a-4f79-aa9e-1817aeee981e",
        "outputId": "cb27970c-16f3-4d83-a3dd-ea0c0e478b5f"
      },
      "outputs": [
        {
          "name": "stdout",
          "output_type": "stream",
          "text": [
            "                            OLS Regression Results                            \n",
            "==============================================================================\n",
            "Dep. Variable:            sleep_total   R-squared:                       0.631\n",
            "Model:                            OLS   Adj. R-squared:                  0.625\n",
            "Method:                 Least Squares   F-statistic:                     100.9\n",
            "Date:                Mon, 19 May 2025   Prob (F-statistic):           2.18e-14\n",
            "Time:                        16:31:02   Log-Likelihood:                -147.84\n",
            "No. Observations:                  61   AIC:                             299.7\n",
            "Df Residuals:                      59   BIC:                             303.9\n",
            "Df Model:                           1                                         \n",
            "Covariance Type:            nonrobust                                         \n",
            "===============================================================================\n",
            "                  coef    std err          t      P>|t|      [0.025      0.975]\n",
            "-------------------------------------------------------------------------------\n",
            "Intercept       8.5686      0.399     21.473      0.000       7.770       9.367\n",
            "sleep_rem10     4.7329      0.471     10.045      0.000       3.790       5.676\n",
            "==============================================================================\n",
            "Omnibus:                        1.365   Durbin-Watson:                   1.992\n",
            "Prob(Omnibus):                  0.505   Jarque-Bera (JB):                1.212\n",
            "Skew:                           0.338   Prob(JB):                        0.546\n",
            "Kurtosis:                       2.862   Cond. No.                         1.68\n",
            "==============================================================================\n",
            "\n",
            "Notes:\n",
            "[1] Standard Errors assume that the covariance matrix of the errors is correctly specified.\n"
          ]
        }
      ],
      "source": [
        "# add in log transformed column\n",
        "sleep['sleep_rem10'] = np.log(sleep['sleep_rem'])\n",
        "\n",
        "# Linear regression with transformed data\n",
        "# carry out regression using log-transformed predictor\n",
        "\n",
        "mod = smf.ols(formula='sleep_total ~ sleep_rem10', data=sleep)\n",
        "res = mod.fit()\n",
        "print(res.summary())"
      ]
    },
    {
      "cell_type": "code",
      "execution_count": null,
      "id": "8c0486fd-827e-455b-8bd9-3cca8fec6413",
      "metadata": {
        "id": "8c0486fd-827e-455b-8bd9-3cca8fec6413",
        "outputId": "648f380d-81e8-4603-c051-c15c601a7bae"
      },
      "outputs": [
        {
          "data": {
            "image/png": "[encoded data removed]",
            "text/plain": [
              "<Figure size 500x500 with 1 Axes>"
            ]
          },
          "metadata": {},
          "output_type": "display_data"
        },
        {
          "data": {
            "image/png": "[encoded data removed]",
            "text/plain": [
              "<Figure size 500x500 with 1 Axes>"
            ]
          },
          "metadata": {},
          "output_type": "display_data"
        }
      ],
      "source": [
        "# view our log transformed lmplot\n",
        "sns.lmplot(x='sleep_rem10',y='sleep_total',data=sleep);\n",
        "# compare above to the lmplot without log transformation\n",
        "sns.lmplot(x='sleep_rem',y='sleep_total',data=sleep);"
      ]
    },
    {
      "cell_type": "markdown",
      "id": "e3c0bb96-6939-4776-a4b7-8e386512ffc2",
      "metadata": {
        "id": "e3c0bb96-6939-4776-a4b7-8e386512ffc2"
      },
      "source": [
        "Here, we see that the $\\beta_1$ estimate for `sleep_rem10` is 4.73....but remember that this value is on the log scale.\n",
        "\n",
        "$$ Total Sleep = 8.57 + 4.73 *log_{10}(REM Sleep) $$\n",
        "\n",
        "To interpret this coefficient, we would say that\n",
        "\n",
        "a 1 unit increase in REM sleep, Total Sleep increases by $\\approx$ $4.73/100$ units.\n",
        "\n",
        "So, for each 1 hour increase in REM Sleep, Total Sleep increases by 0.05 hours.\n",
        "\n",
        "That's not a large effect, but it is different than what we hypothesized at the beginning!\n",
        "More on interpretation of log transformed variables can be read [here](https://www.cscu.cornell.edu/news/statnews/stnews83.pdf)\n",
        "\n",
        "### Why is log-transformation not math trickery?\n",
        "\n",
        "First, some reading on data transformation can be found [here](http://fmwww.bc.edu/repec/bocode/t/transint.html). It's not beautifully formatted, but I think it is written in a more-straightforward manner than some [other](https://stats.stackexchange.com/questions/4831/regression-transforming-variables/4833#4833) [places](https://stats.stackexchange.com/questions/298/in-linear-regression-when-is-it-appropriate-to-use-the-log-of-an-independent-va) [online](https://www.researchgate.net/post/Why_do_we_do_transformation_before_data_analysis).\n",
        "\n",
        "But a basic understanding can be had in just a few bullet points\n",
        "- measurement scales may be arbitrary. there's nothing to say log transforms aren't a better measurement scale than the original\n",
        "- you are already familiar with many logrithmic measurement scales: decibels and Richter scale for measuring earthqueakes are two examples\n",
        "- lots of things are power-law distributed or close to power-law distributed... the frequency of words in a language, human vision and auditory abilities in perception, the number of social media followers people have.\n",
        "- log transforms make a process that had been multiplicative or power law like ($a*b^n$) into an additive process ($a+n*b$) which really helps when you're trying to apply linear regression for obvious reasons\n",
        "- log transforms can reduce heteroscadacity and skewness, which may make the data amenable to linear regression when it hadn't been before\n",
        "\n",
        "The first thing to remember is there is (in most cases) nothing special about how the data are originally expressed.\n",
        "\n",
        "In our example above, there is nothing about \"hours\" as the unit that was chosen that makes these data \"correct\".\n",
        "\n",
        "So, while it _feels_ like data transformation is trickery, our initial unit of hours is...in some ways arbitrary and something that we chose.\n",
        "\n",
        "This is where we'll start with our argument that it's ok to transform (or think of it as *re-express*) our data\n",
        "so that it can be (still-accurately) used with well-studied models.\n",
        "\n",
        "To make the point a little more concretely, all the following things are measured on a log scale: pH (measurement of acidity), dB (measure of sound loudness), and Richter scale (earthquake intensity). All of them _could_ be measured  on a linear scale. Those measurements would still explain those things...it would just be on a different scale.\n",
        "\n",
        "In other words:\n",
        "    \n",
        "> \"Transformations are needed because there is no guarantee that the world works on the scales it happens to be measured on.\"\n",
        ">\n",
        "> What *does* differ however, is the interprtation. Linear scales tell us absolute change, while logarithmic scales tell us relative change."
      ]
    },
    {
      "cell_type": "markdown",
      "id": "8e4e5176-1986-4e0b-96cd-0e9c21f529fe",
      "metadata": {
        "id": "8e4e5176-1986-4e0b-96cd-0e9c21f529fe"
      },
      "source": [
        "# Differences in means by ANOVA\n",
        "\n",
        "What if we have more than two possible levels in our categorical variable?  T-tests are for only two things, e.g. male/female, violent/non-violent.  What if we have regions of the US, like midwest, west, northeast... there's more than two of those!\n",
        "\n",
        "Thats where a group-wise test like ANOVA (Analysis of Variance) is perfect\n",
        "\n",
        "Parametric ANOVA test assumptions\n",
        "\n",
        "- Population distributions are normal\n",
        "- Samples have equal variances\n",
        "- Independence\n",
        "\n",
        "Hypothesis\n",
        "\n",
        "$H_0: \\bar x_1 = \\bar x_2 = \\bar x_3 \\ldots $\n",
        "\n",
        "$H_a: $ at least one group mean is different"
      ]
    },
    {
      "cell_type": "code",
      "execution_count": null,
      "id": "712f1d43-1a3a-4db3-aeb3-bb828c732228",
      "metadata": {
        "id": "712f1d43-1a3a-4db3-aeb3-bb828c732228"
      },
      "outputs": [],
      "source": [
        "regions = pd.read_csv('https://raw.githubusercontent.com/cphalpert/census-regions/master/us%20census%20bureau%20regions%20and%20divisions.csv')\n",
        "regions = regions.rename({'State':'Location'},axis=1).set_index('Location')\n",
        "regions.index = regions.index.str.replace(' ','_')"
      ]
    },
    {
      "cell_type": "code",
      "execution_count": null,
      "id": "ffb9e043-1aa1-423a-87d4-0b2c0cd5e67c",
      "metadata": {
        "id": "ffb9e043-1aa1-423a-87d4-0b2c0cd5e67c",
        "outputId": "389c712e-dc75-40f9-8f6a-a0722fe944d5"
      },
      "outputs": [
        {
          "data": {
            "text/html": [
              "<div>\n",
              "<style scoped>\n",
              "    .dataframe tbody tr th:only-of-type {\n",
              "        vertical-align: middle;\n",
              "    }\n",
              "\n",
              "    .dataframe tbody tr th {\n",
              "        vertical-align: top;\n",
              "    }\n",
              "\n",
              "    .dataframe thead th {\n",
              "        text-align: right;\n",
              "    }\n",
              "</style>\n",
              "<table border=\"1\" class=\"dataframe\">\n",
              "  <thead>\n",
              "    <tr style=\"text-align: right;\">\n",
              "      <th></th>\n",
              "      <th>PovPct</th>\n",
              "      <th>Brth15to17</th>\n",
              "      <th>Brth18to19</th>\n",
              "      <th>ViolCrime</th>\n",
              "      <th>TeenBrth</th>\n",
              "      <th>Violent</th>\n",
              "      <th>pseudoVC</th>\n",
              "      <th>Region</th>\n",
              "    </tr>\n",
              "    <tr>\n",
              "      <th>Location</th>\n",
              "      <th></th>\n",
              "      <th></th>\n",
              "      <th></th>\n",
              "      <th></th>\n",
              "      <th></th>\n",
              "      <th></th>\n",
              "      <th></th>\n",
              "      <th></th>\n",
              "    </tr>\n",
              "  </thead>\n",
              "  <tbody>\n",
              "    <tr>\n",
              "      <th>Alabama</th>\n",
              "      <td>20.1</td>\n",
              "      <td>31.5</td>\n",
              "      <td>88.7</td>\n",
              "      <td>11.2</td>\n",
              "      <td>54.5</td>\n",
              "      <td>1</td>\n",
              "      <td>154.966561</td>\n",
              "      <td>South</td>\n",
              "    </tr>\n",
              "    <tr>\n",
              "      <th>Alaska</th>\n",
              "      <td>7.1</td>\n",
              "      <td>18.9</td>\n",
              "      <td>73.7</td>\n",
              "      <td>9.1</td>\n",
              "      <td>39.5</td>\n",
              "      <td>0</td>\n",
              "      <td>147.539304</td>\n",
              "      <td>West</td>\n",
              "    </tr>\n",
              "    <tr>\n",
              "      <th>Arizona</th>\n",
              "      <td>16.1</td>\n",
              "      <td>35.0</td>\n",
              "      <td>102.5</td>\n",
              "      <td>10.4</td>\n",
              "      <td>61.2</td>\n",
              "      <td>0</td>\n",
              "      <td>153.544026</td>\n",
              "      <td>West</td>\n",
              "    </tr>\n",
              "    <tr>\n",
              "      <th>Arkansas</th>\n",
              "      <td>14.9</td>\n",
              "      <td>31.6</td>\n",
              "      <td>101.7</td>\n",
              "      <td>10.4</td>\n",
              "      <td>59.9</td>\n",
              "      <td>0</td>\n",
              "      <td>152.656596</td>\n",
              "      <td>South</td>\n",
              "    </tr>\n",
              "    <tr>\n",
              "      <th>California</th>\n",
              "      <td>16.7</td>\n",
              "      <td>22.6</td>\n",
              "      <td>69.1</td>\n",
              "      <td>11.2</td>\n",
              "      <td>41.1</td>\n",
              "      <td>1</td>\n",
              "      <td>152.416345</td>\n",
              "      <td>West</td>\n",
              "    </tr>\n",
              "    <tr>\n",
              "      <th>Colorado</th>\n",
              "      <td>8.8</td>\n",
              "      <td>26.2</td>\n",
              "      <td>79.1</td>\n",
              "      <td>5.8</td>\n",
              "      <td>47.0</td>\n",
              "      <td>0</td>\n",
              "      <td>135.278275</td>\n",
              "      <td>West</td>\n",
              "    </tr>\n",
              "    <tr>\n",
              "      <th>Connecticut</th>\n",
              "      <td>9.7</td>\n",
              "      <td>14.1</td>\n",
              "      <td>45.1</td>\n",
              "      <td>4.6</td>\n",
              "      <td>25.8</td>\n",
              "      <td>0</td>\n",
              "      <td>130.740866</td>\n",
              "      <td>Northeast</td>\n",
              "    </tr>\n",
              "    <tr>\n",
              "      <th>Delaware</th>\n",
              "      <td>10.3</td>\n",
              "      <td>24.7</td>\n",
              "      <td>77.8</td>\n",
              "      <td>3.5</td>\n",
              "      <td>46.3</td>\n",
              "      <td>0</td>\n",
              "      <td>127.229718</td>\n",
              "      <td>South</td>\n",
              "    </tr>\n",
              "    <tr>\n",
              "      <th>District_of_Columbia</th>\n",
              "      <td>22.0</td>\n",
              "      <td>44.8</td>\n",
              "      <td>101.5</td>\n",
              "      <td>65.0</td>\n",
              "      <td>69.1</td>\n",
              "      <td>1</td>\n",
              "      <td>349.710450</td>\n",
              "      <td>South</td>\n",
              "    </tr>\n",
              "    <tr>\n",
              "      <th>Florida</th>\n",
              "      <td>16.2</td>\n",
              "      <td>23.2</td>\n",
              "      <td>78.4</td>\n",
              "      <td>7.3</td>\n",
              "      <td>44.5</td>\n",
              "      <td>0</td>\n",
              "      <td>140.601259</td>\n",
              "      <td>South</td>\n",
              "    </tr>\n",
              "    <tr>\n",
              "      <th>Georgia</th>\n",
              "      <td>12.1</td>\n",
              "      <td>31.4</td>\n",
              "      <td>92.8</td>\n",
              "      <td>9.5</td>\n",
              "      <td>55.7</td>\n",
              "      <td>0</td>\n",
              "      <td>148.329523</td>\n",
              "      <td>South</td>\n",
              "    </tr>\n",
              "    <tr>\n",
              "      <th>Hawaii</th>\n",
              "      <td>10.3</td>\n",
              "      <td>17.7</td>\n",
              "      <td>66.4</td>\n",
              "      <td>4.7</td>\n",
              "      <td>38.2</td>\n",
              "      <td>0</td>\n",
              "      <td>132.279192</td>\n",
              "      <td>West</td>\n",
              "    </tr>\n",
              "    <tr>\n",
              "      <th>Idaho</th>\n",
              "      <td>14.5</td>\n",
              "      <td>18.4</td>\n",
              "      <td>69.1</td>\n",
              "      <td>4.1</td>\n",
              "      <td>39.1</td>\n",
              "      <td>0</td>\n",
              "      <td>129.018279</td>\n",
              "      <td>West</td>\n",
              "    </tr>\n",
              "    <tr>\n",
              "      <th>Illinois</th>\n",
              "      <td>12.4</td>\n",
              "      <td>23.4</td>\n",
              "      <td>70.5</td>\n",
              "      <td>10.3</td>\n",
              "      <td>42.2</td>\n",
              "      <td>0</td>\n",
              "      <td>149.258949</td>\n",
              "      <td>Midwest</td>\n",
              "    </tr>\n",
              "    <tr>\n",
              "      <th>Indiana</th>\n",
              "      <td>9.6</td>\n",
              "      <td>22.6</td>\n",
              "      <td>78.5</td>\n",
              "      <td>8.0</td>\n",
              "      <td>44.6</td>\n",
              "      <td>0</td>\n",
              "      <td>141.486144</td>\n",
              "      <td>Midwest</td>\n",
              "    </tr>\n",
              "    <tr>\n",
              "      <th>Iowa</th>\n",
              "      <td>12.2</td>\n",
              "      <td>16.4</td>\n",
              "      <td>55.4</td>\n",
              "      <td>1.8</td>\n",
              "      <td>32.5</td>\n",
              "      <td>0</td>\n",
              "      <td>122.137510</td>\n",
              "      <td>Midwest</td>\n",
              "    </tr>\n",
              "    <tr>\n",
              "      <th>Kansas</th>\n",
              "      <td>10.8</td>\n",
              "      <td>21.4</td>\n",
              "      <td>74.2</td>\n",
              "      <td>6.2</td>\n",
              "      <td>43.0</td>\n",
              "      <td>0</td>\n",
              "      <td>138.771981</td>\n",
              "      <td>Midwest</td>\n",
              "    </tr>\n",
              "    <tr>\n",
              "      <th>Kentucky</th>\n",
              "      <td>14.7</td>\n",
              "      <td>26.5</td>\n",
              "      <td>84.8</td>\n",
              "      <td>7.2</td>\n",
              "      <td>51.0</td>\n",
              "      <td>0</td>\n",
              "      <td>139.051233</td>\n",
              "      <td>South</td>\n",
              "    </tr>\n",
              "    <tr>\n",
              "      <th>Louisiana</th>\n",
              "      <td>19.7</td>\n",
              "      <td>31.7</td>\n",
              "      <td>96.1</td>\n",
              "      <td>17.0</td>\n",
              "      <td>58.1</td>\n",
              "      <td>1</td>\n",
              "      <td>175.123262</td>\n",
              "      <td>South</td>\n",
              "    </tr>\n",
              "    <tr>\n",
              "      <th>Maine</th>\n",
              "      <td>11.2</td>\n",
              "      <td>11.9</td>\n",
              "      <td>45.2</td>\n",
              "      <td>2.0</td>\n",
              "      <td>25.4</td>\n",
              "      <td>0</td>\n",
              "      <td>122.519139</td>\n",
              "      <td>Northeast</td>\n",
              "    </tr>\n",
              "    <tr>\n",
              "      <th>Maryland</th>\n",
              "      <td>10.1</td>\n",
              "      <td>20.0</td>\n",
              "      <td>59.6</td>\n",
              "      <td>11.8</td>\n",
              "      <td>35.4</td>\n",
              "      <td>1</td>\n",
              "      <td>156.425994</td>\n",
              "      <td>South</td>\n",
              "    </tr>\n",
              "    <tr>\n",
              "      <th>Massachusetts</th>\n",
              "      <td>11.0</td>\n",
              "      <td>12.5</td>\n",
              "      <td>39.6</td>\n",
              "      <td>3.6</td>\n",
              "      <td>23.3</td>\n",
              "      <td>0</td>\n",
              "      <td>129.675127</td>\n",
              "      <td>Northeast</td>\n",
              "    </tr>\n",
              "    <tr>\n",
              "      <th>Michigan</th>\n",
              "      <td>12.2</td>\n",
              "      <td>18.0</td>\n",
              "      <td>60.8</td>\n",
              "      <td>8.5</td>\n",
              "      <td>34.8</td>\n",
              "      <td>0</td>\n",
              "      <td>143.575424</td>\n",
              "      <td>Midwest</td>\n",
              "    </tr>\n",
              "    <tr>\n",
              "      <th>Minnesota</th>\n",
              "      <td>9.2</td>\n",
              "      <td>14.2</td>\n",
              "      <td>47.3</td>\n",
              "      <td>3.9</td>\n",
              "      <td>27.5</td>\n",
              "      <td>0</td>\n",
              "      <td>126.518371</td>\n",
              "      <td>Midwest</td>\n",
              "    </tr>\n",
              "    <tr>\n",
              "      <th>Mississippi</th>\n",
              "      <td>23.5</td>\n",
              "      <td>37.6</td>\n",
              "      <td>103.3</td>\n",
              "      <td>12.9</td>\n",
              "      <td>64.7</td>\n",
              "      <td>1</td>\n",
              "      <td>161.327583</td>\n",
              "      <td>South</td>\n",
              "    </tr>\n",
              "    <tr>\n",
              "      <th>Missouri</th>\n",
              "      <td>9.4</td>\n",
              "      <td>22.2</td>\n",
              "      <td>76.6</td>\n",
              "      <td>8.8</td>\n",
              "      <td>44.1</td>\n",
              "      <td>0</td>\n",
              "      <td>147.887494</td>\n",
              "      <td>Midwest</td>\n",
              "    </tr>\n",
              "    <tr>\n",
              "      <th>Montana</th>\n",
              "      <td>15.3</td>\n",
              "      <td>17.8</td>\n",
              "      <td>63.3</td>\n",
              "      <td>3.0</td>\n",
              "      <td>36.4</td>\n",
              "      <td>0</td>\n",
              "      <td>126.272498</td>\n",
              "      <td>West</td>\n",
              "    </tr>\n",
              "    <tr>\n",
              "      <th>Nebraska</th>\n",
              "      <td>9.6</td>\n",
              "      <td>18.3</td>\n",
              "      <td>64.2</td>\n",
              "      <td>2.9</td>\n",
              "      <td>37.0</td>\n",
              "      <td>0</td>\n",
              "      <td>127.223419</td>\n",
              "      <td>Midwest</td>\n",
              "    </tr>\n",
              "    <tr>\n",
              "      <th>Nevada</th>\n",
              "      <td>11.1</td>\n",
              "      <td>28.0</td>\n",
              "      <td>96.7</td>\n",
              "      <td>10.7</td>\n",
              "      <td>53.9</td>\n",
              "      <td>0</td>\n",
              "      <td>153.215991</td>\n",
              "      <td>West</td>\n",
              "    </tr>\n",
              "    <tr>\n",
              "      <th>New_Hampshire</th>\n",
              "      <td>5.3</td>\n",
              "      <td>8.1</td>\n",
              "      <td>39.0</td>\n",
              "      <td>1.8</td>\n",
              "      <td>20.0</td>\n",
              "      <td>0</td>\n",
              "      <td>123.329419</td>\n",
              "      <td>Northeast</td>\n",
              "    </tr>\n",
              "    <tr>\n",
              "      <th>New_Jersey</th>\n",
              "      <td>7.8</td>\n",
              "      <td>14.7</td>\n",
              "      <td>46.1</td>\n",
              "      <td>5.1</td>\n",
              "      <td>26.8</td>\n",
              "      <td>0</td>\n",
              "      <td>132.369266</td>\n",
              "      <td>Northeast</td>\n",
              "    </tr>\n",
              "    <tr>\n",
              "      <th>New_Mexico</th>\n",
              "      <td>25.3</td>\n",
              "      <td>37.8</td>\n",
              "      <td>99.5</td>\n",
              "      <td>8.8</td>\n",
              "      <td>62.4</td>\n",
              "      <td>0</td>\n",
              "      <td>147.984920</td>\n",
              "      <td>West</td>\n",
              "    </tr>\n",
              "    <tr>\n",
              "      <th>New_York</th>\n",
              "      <td>16.5</td>\n",
              "      <td>15.7</td>\n",
              "      <td>50.1</td>\n",
              "      <td>8.5</td>\n",
              "      <td>29.5</td>\n",
              "      <td>0</td>\n",
              "      <td>143.530075</td>\n",
              "      <td>Northeast</td>\n",
              "    </tr>\n",
              "    <tr>\n",
              "      <th>North_Carolina</th>\n",
              "      <td>12.6</td>\n",
              "      <td>28.6</td>\n",
              "      <td>89.3</td>\n",
              "      <td>9.4</td>\n",
              "      <td>52.2</td>\n",
              "      <td>0</td>\n",
              "      <td>149.124939</td>\n",
              "      <td>South</td>\n",
              "    </tr>\n",
              "    <tr>\n",
              "      <th>North_Dakota</th>\n",
              "      <td>12.0</td>\n",
              "      <td>11.7</td>\n",
              "      <td>48.7</td>\n",
              "      <td>0.9</td>\n",
              "      <td>27.2</td>\n",
              "      <td>0</td>\n",
              "      <td>118.777392</td>\n",
              "      <td>Midwest</td>\n",
              "    </tr>\n",
              "    <tr>\n",
              "      <th>Ohio</th>\n",
              "      <td>11.5</td>\n",
              "      <td>20.1</td>\n",
              "      <td>69.4</td>\n",
              "      <td>5.4</td>\n",
              "      <td>39.5</td>\n",
              "      <td>0</td>\n",
              "      <td>135.764643</td>\n",
              "      <td>Midwest</td>\n",
              "    </tr>\n",
              "    <tr>\n",
              "      <th>Oklahoma</th>\n",
              "      <td>17.1</td>\n",
              "      <td>30.1</td>\n",
              "      <td>97.6</td>\n",
              "      <td>12.2</td>\n",
              "      <td>58.0</td>\n",
              "      <td>1</td>\n",
              "      <td>159.280521</td>\n",
              "      <td>South</td>\n",
              "    </tr>\n",
              "    <tr>\n",
              "      <th>Oregon</th>\n",
              "      <td>11.2</td>\n",
              "      <td>18.2</td>\n",
              "      <td>64.8</td>\n",
              "      <td>4.1</td>\n",
              "      <td>36.8</td>\n",
              "      <td>0</td>\n",
              "      <td>130.017993</td>\n",
              "      <td>West</td>\n",
              "    </tr>\n",
              "    <tr>\n",
              "      <th>Pennsylvania</th>\n",
              "      <td>12.2</td>\n",
              "      <td>17.2</td>\n",
              "      <td>53.7</td>\n",
              "      <td>6.3</td>\n",
              "      <td>31.6</td>\n",
              "      <td>0</td>\n",
              "      <td>137.171570</td>\n",
              "      <td>Northeast</td>\n",
              "    </tr>\n",
              "    <tr>\n",
              "      <th>Rhode_Island</th>\n",
              "      <td>10.6</td>\n",
              "      <td>19.6</td>\n",
              "      <td>59.0</td>\n",
              "      <td>3.3</td>\n",
              "      <td>35.6</td>\n",
              "      <td>0</td>\n",
              "      <td>125.175163</td>\n",
              "      <td>Northeast</td>\n",
              "    </tr>\n",
              "    <tr>\n",
              "      <th>South_Carolina</th>\n",
              "      <td>19.9</td>\n",
              "      <td>29.2</td>\n",
              "      <td>87.2</td>\n",
              "      <td>7.9</td>\n",
              "      <td>53.0</td>\n",
              "      <td>0</td>\n",
              "      <td>141.460528</td>\n",
              "      <td>South</td>\n",
              "    </tr>\n",
              "    <tr>\n",
              "      <th>South_Dakota</th>\n",
              "      <td>14.5</td>\n",
              "      <td>17.3</td>\n",
              "      <td>67.8</td>\n",
              "      <td>1.8</td>\n",
              "      <td>38.0</td>\n",
              "      <td>0</td>\n",
              "      <td>122.913213</td>\n",
              "      <td>Midwest</td>\n",
              "    </tr>\n",
              "    <tr>\n",
              "      <th>Tennessee</th>\n",
              "      <td>15.5</td>\n",
              "      <td>28.2</td>\n",
              "      <td>94.2</td>\n",
              "      <td>10.6</td>\n",
              "      <td>54.3</td>\n",
              "      <td>0</td>\n",
              "      <td>152.405464</td>\n",
              "      <td>South</td>\n",
              "    </tr>\n",
              "    <tr>\n",
              "      <th>Texas</th>\n",
              "      <td>17.4</td>\n",
              "      <td>38.2</td>\n",
              "      <td>104.3</td>\n",
              "      <td>9.0</td>\n",
              "      <td>64.4</td>\n",
              "      <td>0</td>\n",
              "      <td>147.792877</td>\n",
              "      <td>South</td>\n",
              "    </tr>\n",
              "    <tr>\n",
              "      <th>Utah</th>\n",
              "      <td>8.4</td>\n",
              "      <td>17.8</td>\n",
              "      <td>62.4</td>\n",
              "      <td>3.9</td>\n",
              "      <td>36.8</td>\n",
              "      <td>0</td>\n",
              "      <td>128.446949</td>\n",
              "      <td>West</td>\n",
              "    </tr>\n",
              "    <tr>\n",
              "      <th>Vermont</th>\n",
              "      <td>10.3</td>\n",
              "      <td>10.4</td>\n",
              "      <td>44.4</td>\n",
              "      <td>2.2</td>\n",
              "      <td>24.2</td>\n",
              "      <td>0</td>\n",
              "      <td>124.902378</td>\n",
              "      <td>Northeast</td>\n",
              "    </tr>\n",
              "    <tr>\n",
              "      <th>Virginia</th>\n",
              "      <td>10.2</td>\n",
              "      <td>19.0</td>\n",
              "      <td>66.0</td>\n",
              "      <td>7.6</td>\n",
              "      <td>37.6</td>\n",
              "      <td>0</td>\n",
              "      <td>144.238956</td>\n",
              "      <td>South</td>\n",
              "    </tr>\n",
              "    <tr>\n",
              "      <th>Washington</th>\n",
              "      <td>12.5</td>\n",
              "      <td>16.8</td>\n",
              "      <td>57.6</td>\n",
              "      <td>5.1</td>\n",
              "      <td>33.0</td>\n",
              "      <td>0</td>\n",
              "      <td>133.880492</td>\n",
              "      <td>West</td>\n",
              "    </tr>\n",
              "    <tr>\n",
              "      <th>West_Virginia</th>\n",
              "      <td>16.7</td>\n",
              "      <td>21.5</td>\n",
              "      <td>80.7</td>\n",
              "      <td>4.9</td>\n",
              "      <td>45.5</td>\n",
              "      <td>0</td>\n",
              "      <td>133.006288</td>\n",
              "      <td>South</td>\n",
              "    </tr>\n",
              "    <tr>\n",
              "      <th>Wisconsin</th>\n",
              "      <td>8.5</td>\n",
              "      <td>15.9</td>\n",
              "      <td>57.1</td>\n",
              "      <td>4.3</td>\n",
              "      <td>32.3</td>\n",
              "      <td>0</td>\n",
              "      <td>128.193829</td>\n",
              "      <td>Midwest</td>\n",
              "    </tr>\n",
              "    <tr>\n",
              "      <th>Wyoming</th>\n",
              "      <td>12.2</td>\n",
              "      <td>17.7</td>\n",
              "      <td>72.1</td>\n",
              "      <td>2.1</td>\n",
              "      <td>39.9</td>\n",
              "      <td>0</td>\n",
              "      <td>122.732440</td>\n",
              "      <td>West</td>\n",
              "    </tr>\n",
              "  </tbody>\n",
              "</table>\n",
              "</div>"
            ],
            "text/plain": [
              "                      PovPct  Brth15to17  Brth18to19  ViolCrime  TeenBrth  \\\n",
              "Location                                                                    \n",
              "Alabama                 20.1        31.5        88.7       11.2      54.5   \n",
              "Alaska                   7.1        18.9        73.7        9.1      39.5   \n",
              "Arizona                 16.1        35.0       102.5       10.4      61.2   \n",
              "Arkansas                14.9        31.6       101.7       10.4      59.9   \n",
              "California              16.7        22.6        69.1       11.2      41.1   \n",
              "Colorado                 8.8        26.2        79.1        5.8      47.0   \n",
              "Connecticut              9.7        14.1        45.1        4.6      25.8   \n",
              "Delaware                10.3        24.7        77.8        3.5      46.3   \n",
              "District_of_Columbia    22.0        44.8       101.5       65.0      69.1   \n",
              "Florida                 16.2        23.2        78.4        7.3      44.5   \n",
              "Georgia                 12.1        31.4        92.8        9.5      55.7   \n",
              "Hawaii                  10.3        17.7        66.4        4.7      38.2   \n",
              "Idaho                   14.5        18.4        69.1        4.1      39.1   \n",
              "Illinois                12.4        23.4        70.5       10.3      42.2   \n",
              "Indiana                  9.6        22.6        78.5        8.0      44.6   \n",
              "Iowa                    12.2        16.4        55.4        1.8      32.5   \n",
              "Kansas                  10.8        21.4        74.2        6.2      43.0   \n",
              "Kentucky                14.7        26.5        84.8        7.2      51.0   \n",
              "Louisiana               19.7        31.7        96.1       17.0      58.1   \n",
              "Maine                   11.2        11.9        45.2        2.0      25.4   \n",
              "Maryland                10.1        20.0        59.6       11.8      35.4   \n",
              "Massachusetts           11.0        12.5        39.6        3.6      23.3   \n",
              "Michigan                12.2        18.0        60.8        8.5      34.8   \n",
              "Minnesota                9.2        14.2        47.3        3.9      27.5   \n",
              "Mississippi             23.5        37.6       103.3       12.9      64.7   \n",
              "Missouri                 9.4        22.2        76.6        8.8      44.1   \n",
              "Montana                 15.3        17.8        63.3        3.0      36.4   \n",
              "Nebraska                 9.6        18.3        64.2        2.9      37.0   \n",
              "Nevada                  11.1        28.0        96.7       10.7      53.9   \n",
              "New_Hampshire            5.3         8.1        39.0        1.8      20.0   \n",
              "New_Jersey               7.8        14.7        46.1        5.1      26.8   \n",
              "New_Mexico              25.3        37.8        99.5        8.8      62.4   \n",
              "New_York                16.5        15.7        50.1        8.5      29.5   \n",
              "North_Carolina          12.6        28.6        89.3        9.4      52.2   \n",
              "North_Dakota            12.0        11.7        48.7        0.9      27.2   \n",
              "Ohio                    11.5        20.1        69.4        5.4      39.5   \n",
              "Oklahoma                17.1        30.1        97.6       12.2      58.0   \n",
              "Oregon                  11.2        18.2        64.8        4.1      36.8   \n",
              "Pennsylvania            12.2        17.2        53.7        6.3      31.6   \n",
              "Rhode_Island            10.6        19.6        59.0        3.3      35.6   \n",
              "South_Carolina          19.9        29.2        87.2        7.9      53.0   \n",
              "South_Dakota            14.5        17.3        67.8        1.8      38.0   \n",
              "Tennessee               15.5        28.2        94.2       10.6      54.3   \n",
              "Texas                   17.4        38.2       104.3        9.0      64.4   \n",
              "Utah                     8.4        17.8        62.4        3.9      36.8   \n",
              "Vermont                 10.3        10.4        44.4        2.2      24.2   \n",
              "Virginia                10.2        19.0        66.0        7.6      37.6   \n",
              "Washington              12.5        16.8        57.6        5.1      33.0   \n",
              "West_Virginia           16.7        21.5        80.7        4.9      45.5   \n",
              "Wisconsin                8.5        15.9        57.1        4.3      32.3   \n",
              "Wyoming                 12.2        17.7        72.1        2.1      39.9   \n",
              "\n",
              "                      Violent    pseudoVC     Region  \n",
              "Location                                              \n",
              "Alabama                     1  154.966561      South  \n",
              "Alaska                      0  147.539304       West  \n",
              "Arizona                     0  153.544026       West  \n",
              "Arkansas                    0  152.656596      South  \n",
              "California                  1  152.416345       West  \n",
              "Colorado                    0  135.278275       West  \n",
              "Connecticut                 0  130.740866  Northeast  \n",
              "Delaware                    0  127.229718      South  \n",
              "District_of_Columbia        1  349.710450      South  \n",
              "Florida                     0  140.601259      South  \n",
              "Georgia                     0  148.329523      South  \n",
              "Hawaii                      0  132.279192       West  \n",
              "Idaho                       0  129.018279       West  \n",
              "Illinois                    0  149.258949    Midwest  \n",
              "Indiana                     0  141.486144    Midwest  \n",
              "Iowa                        0  122.137510    Midwest  \n",
              "Kansas                      0  138.771981    Midwest  \n",
              "Kentucky                    0  139.051233      South  \n",
              "Louisiana                   1  175.123262      South  \n",
              "Maine                       0  122.519139  Northeast  \n",
              "Maryland                    1  156.425994      South  \n",
              "Massachusetts               0  129.675127  Northeast  \n",
              "Michigan                    0  143.575424    Midwest  \n",
              "Minnesota                   0  126.518371    Midwest  \n",
              "Mississippi                 1  161.327583      South  \n",
              "Missouri                    0  147.887494    Midwest  \n",
              "Montana                     0  126.272498       West  \n",
              "Nebraska                    0  127.223419    Midwest  \n",
              "Nevada                      0  153.215991       West  \n",
              "New_Hampshire               0  123.329419  Northeast  \n",
              "New_Jersey                  0  132.369266  Northeast  \n",
              "New_Mexico                  0  147.984920       West  \n",
              "New_York                    0  143.530075  Northeast  \n",
              "North_Carolina              0  149.124939      South  \n",
              "North_Dakota                0  118.777392    Midwest  \n",
              "Ohio                        0  135.764643    Midwest  \n",
              "Oklahoma                    1  159.280521      South  \n",
              "Oregon                      0  130.017993       West  \n",
              "Pennsylvania                0  137.171570  Northeast  \n",
              "Rhode_Island                0  125.175163  Northeast  \n",
              "South_Carolina              0  141.460528      South  \n",
              "South_Dakota                0  122.913213    Midwest  \n",
              "Tennessee                   0  152.405464      South  \n",
              "Texas                       0  147.792877      South  \n",
              "Utah                        0  128.446949       West  \n",
              "Vermont                     0  124.902378  Northeast  \n",
              "Virginia                    0  144.238956      South  \n",
              "Washington                  0  133.880492       West  \n",
              "West_Virginia               0  133.006288      South  \n",
              "Wisconsin                   0  128.193829    Midwest  \n",
              "Wyoming                     0  122.732440       West  "
            ]
          },
          "execution_count": 39,
          "metadata": {},
          "output_type": "execute_result"
        }
      ],
      "source": [
        "df = df.join(regions['Region'])\n",
        "df"
      ]
    },
    {
      "cell_type": "markdown",
      "id": "ae5373c4-d53e-4409-b2b2-50429ddd3bd4",
      "metadata": {
        "id": "ae5373c4-d53e-4409-b2b2-50429ddd3bd4"
      },
      "source": [
        "So how would you run an ANOVA checking for a difference in TeenBrth across regions?\n",
        "\n",
        "this is left as an exercise for you. But there are two major options for you.  If you want to manually group the categorical variable ($\\bar x_1 = \\bar x_2 = \\bar x_3$) you can use scipy:\n",
        "https://docs.scipy.org/doc/scipy/reference/generated/scipy.stats.f_oneway.html\n",
        "\n",
        "If you want to build a model that is more precise or custom, with automatic grouping by a variable inside the dataframe then you can use statsmodels:\n",
        "https://www.statsmodels.org/dev/anova.html"
      ]
    },
    {
      "cell_type": "code",
      "execution_count": null,
      "id": "41bc924e-0635-4fe8-9d1f-d06c10825ece",
      "metadata": {
        "id": "41bc924e-0635-4fe8-9d1f-d06c10825ece"
      },
      "outputs": [],
      "source": []
    }
  ],
  "metadata": {
    "kernelspec": {
      "display_name": "DSTenv",
      "language": "python",
      "name": "dstenv"
    },
    "language_info": {
      "codemirror_mode": {
        "name": "ipython",
        "version": 3
      },
      "file_extension": ".py",
      "mimetype": "text/x-python",
      "name": "python",
      "nbconvert_exporter": "python",
      "pygments_lexer": "ipython3",
      "version": "3.11.5"
    },
    "colab": {
      "provenance": [],
      "include_colab_link": true
    }
  },
  "nbformat": 4,
  "nbformat_minor": 5
}